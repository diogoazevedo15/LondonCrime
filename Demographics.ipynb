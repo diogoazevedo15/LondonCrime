{
 "cells": [
  {
   "cell_type": "markdown",
   "metadata": {
    "id": "U96S4bCd-ceJ"
   },
   "source": [
    "# London Demographics"
   ]
  },
  {
   "cell_type": "markdown",
   "metadata": {
    "id": "vK9CsybogAwu"
   },
   "source": [
    "## Imports"
   ]
  },
  {
   "cell_type": "code",
   "execution_count": 1,
   "metadata": {
    "id": "0jMnx5OX_mVM"
   },
   "outputs": [],
   "source": [
    "import pandas as pd\n",
    "import numpy as np\n",
    "import csv\n",
    "from pandas_profiling import ProfileReport"
   ]
  },
  {
   "cell_type": "markdown",
   "metadata": {
    "id": "7zilxS7zn7J_"
   },
   "source": [
    "## Reading, Processing And Generating Reports"
   ]
  },
  {
   "cell_type": "code",
   "execution_count": 2,
   "metadata": {
    "colab": {
     "base_uri": "https://localhost:8080/",
     "height": 508
    },
    "id": "emu6RTAkgd0X",
    "outputId": "19ee5003-dd42-41ef-f0d7-d321b70c2b23"
   },
   "outputs": [
    {
     "data": {
      "text/html": [
       "<div>\n",
       "<style scoped>\n",
       "    .dataframe tbody tr th:only-of-type {\n",
       "        vertical-align: middle;\n",
       "    }\n",
       "\n",
       "    .dataframe tbody tr th {\n",
       "        vertical-align: top;\n",
       "    }\n",
       "\n",
       "    .dataframe thead th {\n",
       "        text-align: right;\n",
       "    }\n",
       "</style>\n",
       "<table border=\"1\" class=\"dataframe\">\n",
       "  <thead>\n",
       "    <tr style=\"text-align: right;\">\n",
       "      <th></th>\n",
       "      <th>Area name</th>\n",
       "      <th>Inner/ Outer London</th>\n",
       "      <th>GLA Population Estimate 2016</th>\n",
       "      <th>GLA Household Estimate 2016</th>\n",
       "      <th>Inland Area (Hectares)</th>\n",
       "      <th>Population density (per hectare) 2016</th>\n",
       "      <th>Average Age, 2016</th>\n",
       "      <th>Proportion of population aged 0-15, 2016</th>\n",
       "      <th>Proportion of population of working-age, 2016</th>\n",
       "      <th>Proportion of population aged 65 and over, 2016</th>\n",
       "      <th>...</th>\n",
       "      <th>Male life expectancy, (2012-14)</th>\n",
       "      <th>Female life expectancy, (2012-14)</th>\n",
       "      <th>Anxiety score 2011-14 (out of 10)</th>\n",
       "      <th>Childhood Obesity Prevalance (%) 2014/15</th>\n",
       "      <th>Mortality rate from causes considered preventable 2012/14</th>\n",
       "      <th>Political control in council</th>\n",
       "      <th>Proportion of seats won by Conservatives in 2014 election</th>\n",
       "      <th>Proportion of seats won by Labour in 2014 election</th>\n",
       "      <th>Proportion of seats won by Lib Dems in 2014 election</th>\n",
       "      <th>Turnout at 2014 local elections</th>\n",
       "    </tr>\n",
       "  </thead>\n",
       "  <tbody>\n",
       "    <tr>\n",
       "      <th>0</th>\n",
       "      <td>NaN</td>\n",
       "      <td>NaN</td>\n",
       "      <td>NaN</td>\n",
       "      <td>NaN</td>\n",
       "      <td>NaN</td>\n",
       "      <td>NaN</td>\n",
       "      <td>NaN</td>\n",
       "      <td>NaN</td>\n",
       "      <td>NaN</td>\n",
       "      <td>NaN</td>\n",
       "      <td>...</td>\n",
       "      <td>NaN</td>\n",
       "      <td>NaN</td>\n",
       "      <td>NaN</td>\n",
       "      <td>NaN</td>\n",
       "      <td>NaN</td>\n",
       "      <td>NaN</td>\n",
       "      <td>NaN</td>\n",
       "      <td>NaN</td>\n",
       "      <td>NaN</td>\n",
       "      <td>NaN</td>\n",
       "    </tr>\n",
       "    <tr>\n",
       "      <th>1</th>\n",
       "      <td>City of London</td>\n",
       "      <td>Inner London</td>\n",
       "      <td>8,548</td>\n",
       "      <td>5,179</td>\n",
       "      <td>290.4</td>\n",
       "      <td>28.9</td>\n",
       "      <td>42.9</td>\n",
       "      <td>27.2</td>\n",
       "      <td>90.6</td>\n",
       "      <td>9.4</td>\n",
       "      <td>...</td>\n",
       "      <td>NaN</td>\n",
       "      <td>NaN</td>\n",
       "      <td>5.57</td>\n",
       "      <td>NaN</td>\n",
       "      <td>128.8</td>\n",
       "      <td>NaN</td>\n",
       "      <td>NaN</td>\n",
       "      <td>NaN</td>\n",
       "      <td>NaN</td>\n",
       "      <td>NaN</td>\n",
       "    </tr>\n",
       "    <tr>\n",
       "      <th>2</th>\n",
       "      <td>Barking and Dagenham</td>\n",
       "      <td>Outer London</td>\n",
       "      <td>205,773</td>\n",
       "      <td>76,841</td>\n",
       "      <td>3,610.8</td>\n",
       "      <td>57.3</td>\n",
       "      <td>32.9</td>\n",
       "      <td>21.0</td>\n",
       "      <td>86.1</td>\n",
       "      <td>13.9</td>\n",
       "      <td>...</td>\n",
       "      <td>77.6</td>\n",
       "      <td>82.1</td>\n",
       "      <td>3.05</td>\n",
       "      <td>25.3</td>\n",
       "      <td>227.6</td>\n",
       "      <td>Lab</td>\n",
       "      <td>0.0</td>\n",
       "      <td>100.0</td>\n",
       "      <td>0.0</td>\n",
       "      <td>36.5</td>\n",
       "    </tr>\n",
       "    <tr>\n",
       "      <th>3</th>\n",
       "      <td>Barnet</td>\n",
       "      <td>Outer London</td>\n",
       "      <td>385,108</td>\n",
       "      <td>149,147</td>\n",
       "      <td>8,674.8</td>\n",
       "      <td>44.5</td>\n",
       "      <td>37.2</td>\n",
       "      <td>21.0</td>\n",
       "      <td>83.3</td>\n",
       "      <td>16.7</td>\n",
       "      <td>...</td>\n",
       "      <td>82.1</td>\n",
       "      <td>85.1</td>\n",
       "      <td>2.75</td>\n",
       "      <td>18.4</td>\n",
       "      <td>133.8</td>\n",
       "      <td>Cons</td>\n",
       "      <td>50.8</td>\n",
       "      <td>47.6</td>\n",
       "      <td>1.6</td>\n",
       "      <td>40.5</td>\n",
       "    </tr>\n",
       "    <tr>\n",
       "      <th>4</th>\n",
       "      <td>Bexley</td>\n",
       "      <td>Outer London</td>\n",
       "      <td>243,303</td>\n",
       "      <td>97,233</td>\n",
       "      <td>6,058.1</td>\n",
       "      <td>39.9</td>\n",
       "      <td>38.9</td>\n",
       "      <td>20.8</td>\n",
       "      <td>89.0</td>\n",
       "      <td>11.0</td>\n",
       "      <td>...</td>\n",
       "      <td>80.4</td>\n",
       "      <td>84.4</td>\n",
       "      <td>3.29</td>\n",
       "      <td>21.4</td>\n",
       "      <td>164.3</td>\n",
       "      <td>Cons</td>\n",
       "      <td>71.4</td>\n",
       "      <td>23.8</td>\n",
       "      <td>0.0</td>\n",
       "      <td>39.6</td>\n",
       "    </tr>\n",
       "  </tbody>\n",
       "</table>\n",
       "<p>5 rows × 77 columns</p>\n",
       "</div>"
      ],
      "text/plain": [
       "              Area name Inner/ Outer London GLA Population Estimate 2016  \\\n",
       "0                   NaN                 NaN                          NaN   \n",
       "1        City of London        Inner London                       8,548    \n",
       "2  Barking and Dagenham        Outer London                     205,773    \n",
       "3                Barnet        Outer London                     385,108    \n",
       "4                Bexley        Outer London                     243,303    \n",
       "\n",
       "  GLA Household Estimate 2016 Inland Area (Hectares)  \\\n",
       "0                         NaN                    NaN   \n",
       "1                      5,179                   290.4   \n",
       "2                     76,841                 3,610.8   \n",
       "3                    149,147                 8,674.8   \n",
       "4                     97,233                 6,058.1   \n",
       "\n",
       "  Population density (per hectare) 2016  Average Age, 2016  \\\n",
       "0                                   NaN                NaN   \n",
       "1                                  28.9               42.9   \n",
       "2                                  57.3               32.9   \n",
       "3                                  44.5               37.2   \n",
       "4                                  39.9               38.9   \n",
       "\n",
       "   Proportion of population aged 0-15, 2016  \\\n",
       "0                                       NaN   \n",
       "1                                      27.2   \n",
       "2                                      21.0   \n",
       "3                                      21.0   \n",
       "4                                      20.8   \n",
       "\n",
       "   Proportion of population of working-age, 2016  \\\n",
       "0                                            NaN   \n",
       "1                                           90.6   \n",
       "2                                           86.1   \n",
       "3                                           83.3   \n",
       "4                                           89.0   \n",
       "\n",
       "   Proportion of population aged 65 and over, 2016  ...  \\\n",
       "0                                              NaN  ...   \n",
       "1                                              9.4  ...   \n",
       "2                                             13.9  ...   \n",
       "3                                             16.7  ...   \n",
       "4                                             11.0  ...   \n",
       "\n",
       "  Male life expectancy, (2012-14) Female life expectancy, (2012-14)  \\\n",
       "0                             NaN                               NaN   \n",
       "1                             NaN                               NaN   \n",
       "2                            77.6                              82.1   \n",
       "3                            82.1                              85.1   \n",
       "4                            80.4                              84.4   \n",
       "\n",
       "  Anxiety score 2011-14 (out of 10) Childhood Obesity Prevalance (%) 2014/15  \\\n",
       "0                               NaN                                      NaN   \n",
       "1                              5.57                                      NaN   \n",
       "2                              3.05                                     25.3   \n",
       "3                              2.75                                     18.4   \n",
       "4                              3.29                                     21.4   \n",
       "\n",
       "  Mortality rate from causes considered preventable 2012/14  \\\n",
       "0                                                NaN          \n",
       "1                                              128.8          \n",
       "2                                              227.6          \n",
       "3                                              133.8          \n",
       "4                                              164.3          \n",
       "\n",
       "  Political control in council  \\\n",
       "0                          NaN   \n",
       "1                          NaN   \n",
       "2                          Lab   \n",
       "3                         Cons   \n",
       "4                         Cons   \n",
       "\n",
       "  Proportion of seats won by Conservatives in 2014 election  \\\n",
       "0                                                NaN          \n",
       "1                                                NaN          \n",
       "2                                                0.0          \n",
       "3                                               50.8          \n",
       "4                                               71.4          \n",
       "\n",
       "  Proportion of seats won by Labour in 2014 election  \\\n",
       "0                                                NaN   \n",
       "1                                                NaN   \n",
       "2                                              100.0   \n",
       "3                                               47.6   \n",
       "4                                               23.8   \n",
       "\n",
       "  Proportion of seats won by Lib Dems in 2014 election  \\\n",
       "0                                                NaN     \n",
       "1                                                NaN     \n",
       "2                                                0.0     \n",
       "3                                                1.6     \n",
       "4                                                0.0     \n",
       "\n",
       "  Turnout at 2014 local elections  \n",
       "0                             NaN  \n",
       "1                             NaN  \n",
       "2                            36.5  \n",
       "3                            40.5  \n",
       "4                            39.6  \n",
       "\n",
       "[5 rows x 77 columns]"
      ]
     },
     "execution_count": 2,
     "metadata": {},
     "output_type": "execute_result"
    }
   ],
   "source": [
    "# Reads the demographics files\n",
    "demographics_data = pd.read_csv('D:/Universidade-Fcul/2_semestre/TPD/projeto/novoscsvs/london-borough-profiles-2016 Data set.csv')\n",
    "borough_population = pd.read_excel('D:/Universidade-Fcul/2_semestre/TPD/projeto/novoscsvs/london_borough_population.xlsx')\n",
    "\n",
    "# Replace '.' values with nans and drop unecessary columns\n",
    "demographics_data = demographics_data.replace('.', np.nan)\n",
    "\n",
    "del demographics_data['Code']\n",
    "del demographics_data['New code']\n",
    "\n",
    "# Removing unecessary columns that doesn't bring much information\n",
    "del demographics_data['Life satisfaction score 2011-14 (out of 10)']\n",
    "del demographics_data['Worthwhileness score 2011-14 (out of 10)']\n",
    "del demographics_data['Happiness score 2011-14 (out of 10)']\n",
    "del demographics_data['Number of cars per household, (2011 Census)']\n",
    "del demographics_data['Teenage conception rate (2014)']\n",
    "del demographics_data['People aged 17+ with diabetes (%)']\n",
    "\n",
    "demographics_data.head()"
   ]
  },
  {
   "cell_type": "code",
   "execution_count": 3,
   "metadata": {},
   "outputs": [
    {
     "name": "stdout",
     "output_type": "stream",
     "text": [
      "(40, 77)\n"
     ]
    }
   ],
   "source": [
    "print(demographics_data.shape)"
   ]
  },
  {
   "cell_type": "code",
   "execution_count": 4,
   "metadata": {
    "scrolled": true
   },
   "outputs": [
    {
     "data": {
      "text/html": [
       "<div>\n",
       "<style scoped>\n",
       "    .dataframe tbody tr th:only-of-type {\n",
       "        vertical-align: middle;\n",
       "    }\n",
       "\n",
       "    .dataframe tbody tr th {\n",
       "        vertical-align: top;\n",
       "    }\n",
       "\n",
       "    .dataframe thead th {\n",
       "        text-align: right;\n",
       "    }\n",
       "</style>\n",
       "<table border=\"1\" class=\"dataframe\">\n",
       "  <thead>\n",
       "    <tr style=\"text-align: right;\">\n",
       "      <th></th>\n",
       "      <th>Area name</th>\n",
       "      <th>Inner/ Outer London</th>\n",
       "      <th>GLA Population Estimate 2016</th>\n",
       "      <th>GLA Household Estimate 2016</th>\n",
       "      <th>Inland Area (Hectares)</th>\n",
       "      <th>Population density (per hectare) 2016</th>\n",
       "      <th>Average Age, 2016</th>\n",
       "      <th>Proportion of population aged 0-15, 2016</th>\n",
       "      <th>Proportion of population of working-age, 2016</th>\n",
       "      <th>Proportion of population aged 65 and over, 2016</th>\n",
       "      <th>...</th>\n",
       "      <th>Male life expectancy, (2012-14)</th>\n",
       "      <th>Female life expectancy, (2012-14)</th>\n",
       "      <th>Anxiety score 2011-14 (out of 10)</th>\n",
       "      <th>Childhood Obesity Prevalance (%) 2014/15</th>\n",
       "      <th>Mortality rate from causes considered preventable 2012/14</th>\n",
       "      <th>Political control in council</th>\n",
       "      <th>Proportion of seats won by Conservatives in 2014 election</th>\n",
       "      <th>Proportion of seats won by Labour in 2014 election</th>\n",
       "      <th>Proportion of seats won by Lib Dems in 2014 election</th>\n",
       "      <th>Turnout at 2014 local elections</th>\n",
       "    </tr>\n",
       "  </thead>\n",
       "  <tbody>\n",
       "    <tr>\n",
       "      <th>2</th>\n",
       "      <td>Barking and Dagenham</td>\n",
       "      <td>Outer London</td>\n",
       "      <td>205,773</td>\n",
       "      <td>76,841</td>\n",
       "      <td>3,610.8</td>\n",
       "      <td>57.3</td>\n",
       "      <td>32.9</td>\n",
       "      <td>21.0</td>\n",
       "      <td>86.1</td>\n",
       "      <td>13.9</td>\n",
       "      <td>...</td>\n",
       "      <td>77.6</td>\n",
       "      <td>82.1</td>\n",
       "      <td>3.05</td>\n",
       "      <td>25.3</td>\n",
       "      <td>227.6</td>\n",
       "      <td>Lab</td>\n",
       "      <td>0.0</td>\n",
       "      <td>100.0</td>\n",
       "      <td>0.0</td>\n",
       "      <td>36.5</td>\n",
       "    </tr>\n",
       "    <tr>\n",
       "      <th>3</th>\n",
       "      <td>Barnet</td>\n",
       "      <td>Outer London</td>\n",
       "      <td>385,108</td>\n",
       "      <td>149,147</td>\n",
       "      <td>8,674.8</td>\n",
       "      <td>44.5</td>\n",
       "      <td>37.2</td>\n",
       "      <td>21.0</td>\n",
       "      <td>83.3</td>\n",
       "      <td>16.7</td>\n",
       "      <td>...</td>\n",
       "      <td>82.1</td>\n",
       "      <td>85.1</td>\n",
       "      <td>2.75</td>\n",
       "      <td>18.4</td>\n",
       "      <td>133.8</td>\n",
       "      <td>Cons</td>\n",
       "      <td>50.8</td>\n",
       "      <td>47.6</td>\n",
       "      <td>1.6</td>\n",
       "      <td>40.5</td>\n",
       "    </tr>\n",
       "    <tr>\n",
       "      <th>4</th>\n",
       "      <td>Bexley</td>\n",
       "      <td>Outer London</td>\n",
       "      <td>243,303</td>\n",
       "      <td>97,233</td>\n",
       "      <td>6,058.1</td>\n",
       "      <td>39.9</td>\n",
       "      <td>38.9</td>\n",
       "      <td>20.8</td>\n",
       "      <td>89.0</td>\n",
       "      <td>11.0</td>\n",
       "      <td>...</td>\n",
       "      <td>80.4</td>\n",
       "      <td>84.4</td>\n",
       "      <td>3.29</td>\n",
       "      <td>21.4</td>\n",
       "      <td>164.3</td>\n",
       "      <td>Cons</td>\n",
       "      <td>71.4</td>\n",
       "      <td>23.8</td>\n",
       "      <td>0.0</td>\n",
       "      <td>39.6</td>\n",
       "    </tr>\n",
       "    <tr>\n",
       "      <th>5</th>\n",
       "      <td>Brent</td>\n",
       "      <td>Outer London</td>\n",
       "      <td>328,568</td>\n",
       "      <td>119,166</td>\n",
       "      <td>4,323.3</td>\n",
       "      <td>76.1</td>\n",
       "      <td>35.5</td>\n",
       "      <td>20.1</td>\n",
       "      <td>82.5</td>\n",
       "      <td>17.5</td>\n",
       "      <td>...</td>\n",
       "      <td>80.1</td>\n",
       "      <td>85.1</td>\n",
       "      <td>2.92</td>\n",
       "      <td>23.9</td>\n",
       "      <td>169.4</td>\n",
       "      <td>Lab</td>\n",
       "      <td>9.5</td>\n",
       "      <td>88.9</td>\n",
       "      <td>1.6</td>\n",
       "      <td>36.3</td>\n",
       "    </tr>\n",
       "    <tr>\n",
       "      <th>6</th>\n",
       "      <td>Bromley</td>\n",
       "      <td>Outer London</td>\n",
       "      <td>326,560</td>\n",
       "      <td>139,654</td>\n",
       "      <td>15,013.5</td>\n",
       "      <td>21.7</td>\n",
       "      <td>40.1</td>\n",
       "      <td>15.8</td>\n",
       "      <td>88.4</td>\n",
       "      <td>11.6</td>\n",
       "      <td>...</td>\n",
       "      <td>81.4</td>\n",
       "      <td>84.9</td>\n",
       "      <td>3.26</td>\n",
       "      <td>16.5</td>\n",
       "      <td>148.5</td>\n",
       "      <td>Cons</td>\n",
       "      <td>85.0</td>\n",
       "      <td>11.7</td>\n",
       "      <td>0.0</td>\n",
       "      <td>40.8</td>\n",
       "    </tr>\n",
       "  </tbody>\n",
       "</table>\n",
       "<p>5 rows × 77 columns</p>\n",
       "</div>"
      ],
      "text/plain": [
       "              Area name Inner/ Outer London GLA Population Estimate 2016  \\\n",
       "2  Barking and Dagenham        Outer London                     205,773    \n",
       "3                Barnet        Outer London                     385,108    \n",
       "4                Bexley        Outer London                     243,303    \n",
       "5                 Brent        Outer London                     328,568    \n",
       "6               Bromley        Outer London                     326,560    \n",
       "\n",
       "  GLA Household Estimate 2016 Inland Area (Hectares)  \\\n",
       "2                     76,841                 3,610.8   \n",
       "3                    149,147                 8,674.8   \n",
       "4                     97,233                 6,058.1   \n",
       "5                    119,166                 4,323.3   \n",
       "6                    139,654                15,013.5   \n",
       "\n",
       "  Population density (per hectare) 2016  Average Age, 2016  \\\n",
       "2                                  57.3               32.9   \n",
       "3                                  44.5               37.2   \n",
       "4                                  39.9               38.9   \n",
       "5                                  76.1               35.5   \n",
       "6                                  21.7               40.1   \n",
       "\n",
       "   Proportion of population aged 0-15, 2016  \\\n",
       "2                                      21.0   \n",
       "3                                      21.0   \n",
       "4                                      20.8   \n",
       "5                                      20.1   \n",
       "6                                      15.8   \n",
       "\n",
       "   Proportion of population of working-age, 2016  \\\n",
       "2                                           86.1   \n",
       "3                                           83.3   \n",
       "4                                           89.0   \n",
       "5                                           82.5   \n",
       "6                                           88.4   \n",
       "\n",
       "   Proportion of population aged 65 and over, 2016  ...  \\\n",
       "2                                             13.9  ...   \n",
       "3                                             16.7  ...   \n",
       "4                                             11.0  ...   \n",
       "5                                             17.5  ...   \n",
       "6                                             11.6  ...   \n",
       "\n",
       "  Male life expectancy, (2012-14) Female life expectancy, (2012-14)  \\\n",
       "2                            77.6                              82.1   \n",
       "3                            82.1                              85.1   \n",
       "4                            80.4                              84.4   \n",
       "5                            80.1                              85.1   \n",
       "6                            81.4                              84.9   \n",
       "\n",
       "  Anxiety score 2011-14 (out of 10) Childhood Obesity Prevalance (%) 2014/15  \\\n",
       "2                              3.05                                     25.3   \n",
       "3                              2.75                                     18.4   \n",
       "4                              3.29                                     21.4   \n",
       "5                              2.92                                     23.9   \n",
       "6                              3.26                                     16.5   \n",
       "\n",
       "  Mortality rate from causes considered preventable 2012/14  \\\n",
       "2                                              227.6          \n",
       "3                                              133.8          \n",
       "4                                              164.3          \n",
       "5                                              169.4          \n",
       "6                                              148.5          \n",
       "\n",
       "  Political control in council  \\\n",
       "2                          Lab   \n",
       "3                         Cons   \n",
       "4                         Cons   \n",
       "5                          Lab   \n",
       "6                         Cons   \n",
       "\n",
       "  Proportion of seats won by Conservatives in 2014 election  \\\n",
       "2                                                0.0          \n",
       "3                                               50.8          \n",
       "4                                               71.4          \n",
       "5                                                9.5          \n",
       "6                                               85.0          \n",
       "\n",
       "  Proportion of seats won by Labour in 2014 election  \\\n",
       "2                                              100.0   \n",
       "3                                               47.6   \n",
       "4                                               23.8   \n",
       "5                                               88.9   \n",
       "6                                               11.7   \n",
       "\n",
       "  Proportion of seats won by Lib Dems in 2014 election  \\\n",
       "2                                                0.0     \n",
       "3                                                1.6     \n",
       "4                                                0.0     \n",
       "5                                                1.6     \n",
       "6                                                0.0     \n",
       "\n",
       "  Turnout at 2014 local elections  \n",
       "2                            36.5  \n",
       "3                            40.5  \n",
       "4                            39.6  \n",
       "5                            36.3  \n",
       "6                            40.8  \n",
       "\n",
       "[5 rows x 77 columns]"
      ]
     },
     "execution_count": 4,
     "metadata": {},
     "output_type": "execute_result"
    }
   ],
   "source": [
    "# Removes rows that are not necessary. Nan rows and generic places that are not boroughs\n",
    "comparison_rows = demographics_data.iloc[[0, 1, 34, 35, 36, 37, 38, 39]]\n",
    "demographics_data = demographics_data.drop([0, 1, 34, 35, 36, 37, 38, 39])\n",
    "demographics = demographics_data.copy()\n",
    "demographics.head()"
   ]
  },
  {
   "cell_type": "code",
   "execution_count": 5,
   "metadata": {},
   "outputs": [
    {
     "name": "stdout",
     "output_type": "stream",
     "text": [
      "There are 9 string columns\n"
     ]
    }
   ],
   "source": [
    "# Removes pound signs and commas and makes column float\n",
    "count = 0\n",
    "for col in demographics.columns:\n",
    "    try:\n",
    "        demographics[col] = demographics[col].apply(lambda x: str(x).replace('£', '').replace(',', ''))\n",
    "        demographics[col] = demographics[col].astype(float)\n",
    "    except:\n",
    "        count +=1\n",
    "print('There are {0} string columns'.format(count))"
   ]
  },
  {
   "cell_type": "code",
   "execution_count": 6,
   "metadata": {},
   "outputs": [
    {
     "name": "stdout",
     "output_type": "stream",
     "text": [
      "9 columns remained intanct\n"
     ]
    }
   ],
   "source": [
    "# Replaces NaN values with the mean\n",
    "count = 0\n",
    "for col in demographics.columns:\n",
    "    try:\n",
    "        demographics[col] = demographics[col].replace(np.nan, demographics[col].mean())\n",
    "    except:\n",
    "        count += 1\n",
    "print('{0} columns remained intanct'.format(count))"
   ]
  },
  {
   "cell_type": "code",
   "execution_count": 7,
   "metadata": {
    "scrolled": true
   },
   "outputs": [
    {
     "data": {
      "application/vnd.jupyter.widget-view+json": {
       "model_id": "bef64bbd940c4d4893c07701813cd72e",
       "version_major": 2,
       "version_minor": 0
      },
      "text/plain": [
       "HBox(children=(HTML(value='Summarize dataset'), FloatProgress(value=0.0, max=15.0), HTML(value='')))"
      ]
     },
     "metadata": {},
     "output_type": "display_data"
    },
    {
     "name": "stdout",
     "output_type": "stream",
     "text": [
      "\n"
     ]
    },
    {
     "data": {
      "application/vnd.jupyter.widget-view+json": {
       "model_id": "800a074f3d494a45b1869eda952d1509",
       "version_major": 2,
       "version_minor": 0
      },
      "text/plain": [
       "HBox(children=(HTML(value='Generate report structure'), FloatProgress(value=0.0, max=1.0), HTML(value='')))"
      ]
     },
     "metadata": {},
     "output_type": "display_data"
    },
    {
     "name": "stdout",
     "output_type": "stream",
     "text": [
      "\n"
     ]
    },
    {
     "data": {
      "application/vnd.jupyter.widget-view+json": {
       "model_id": "4ba1be9dfb7c404cad664622fb6ca444",
       "version_major": 2,
       "version_minor": 0
      },
      "text/plain": [
       "HBox(children=(HTML(value='Render HTML'), FloatProgress(value=0.0, max=1.0), HTML(value='')))"
      ]
     },
     "metadata": {},
     "output_type": "display_data"
    },
    {
     "name": "stdout",
     "output_type": "stream",
     "text": [
      "\n"
     ]
    },
    {
     "data": {
      "application/vnd.jupyter.widget-view+json": {
       "model_id": "c59b79c5248f401689918b38a85bb382",
       "version_major": 2,
       "version_minor": 0
      },
      "text/plain": [
       "HBox(children=(HTML(value='Export report to file'), FloatProgress(value=0.0, max=1.0), HTML(value='')))"
      ]
     },
     "metadata": {},
     "output_type": "display_data"
    },
    {
     "name": "stdout",
     "output_type": "stream",
     "text": [
      "\n"
     ]
    }
   ],
   "source": [
    "# Report of Borough Population\n",
    "borough_population_profile = ProfileReport(borough_population, \n",
    "                                           title=\"Borough Population Profiling Report\", \n",
    "                                           explorative=1)\n",
    "\n",
    "borough_population_profile.to_file(\"borough_population_profile.html\")"
   ]
  },
  {
   "cell_type": "code",
   "execution_count": 8,
   "metadata": {
    "scrolled": true
   },
   "outputs": [
    {
     "data": {
      "application/vnd.jupyter.widget-view+json": {
       "model_id": "a384ba7801464ddfbc53a032b3818e89",
       "version_major": 2,
       "version_minor": 0
      },
      "text/plain": [
       "HBox(children=(HTML(value='Summarize dataset'), FloatProgress(value=0.0, max=86.0), HTML(value='')))"
      ]
     },
     "metadata": {},
     "output_type": "display_data"
    },
    {
     "name": "stdout",
     "output_type": "stream",
     "text": [
      "\n"
     ]
    },
    {
     "data": {
      "application/vnd.jupyter.widget-view+json": {
       "model_id": "8887a0765b4b4eec98926f07a81d5e4f",
       "version_major": 2,
       "version_minor": 0
      },
      "text/plain": [
       "HBox(children=(HTML(value='Generate report structure'), FloatProgress(value=0.0, max=1.0), HTML(value='')))"
      ]
     },
     "metadata": {},
     "output_type": "display_data"
    },
    {
     "name": "stdout",
     "output_type": "stream",
     "text": [
      "\n"
     ]
    },
    {
     "data": {
      "application/vnd.jupyter.widget-view+json": {
       "model_id": "df97fdce9c3748a6bf62d70d8899ca2e",
       "version_major": 2,
       "version_minor": 0
      },
      "text/plain": [
       "HBox(children=(HTML(value='Render HTML'), FloatProgress(value=0.0, max=1.0), HTML(value='')))"
      ]
     },
     "metadata": {},
     "output_type": "display_data"
    },
    {
     "name": "stdout",
     "output_type": "stream",
     "text": [
      "\n"
     ]
    },
    {
     "data": {
      "application/vnd.jupyter.widget-view+json": {
       "model_id": "e17f3b323c9444cf919853556b6bf401",
       "version_major": 2,
       "version_minor": 0
      },
      "text/plain": [
       "HBox(children=(HTML(value='Export report to file'), FloatProgress(value=0.0, max=1.0), HTML(value='')))"
      ]
     },
     "metadata": {},
     "output_type": "display_data"
    },
    {
     "name": "stdout",
     "output_type": "stream",
     "text": [
      "\n"
     ]
    }
   ],
   "source": [
    "# Report of Borough Demographics\n",
    "borough_demographics_profile = ProfileReport(demographics, \n",
    "                                             title='Borough Demographics Profiling Report',\n",
    "                                             explorative=1, \n",
    "                                             minimal=1)\n",
    "borough_demographics_profile.to_file(\"borough_demographics_profile.html\")"
   ]
  },
  {
   "cell_type": "markdown",
   "metadata": {},
   "source": [
    "## Reports Analysis"
   ]
  },
  {
   "cell_type": "markdown",
   "metadata": {},
   "source": [
    "### GLA Population Estimate 2016"
   ]
  },
  {
   "cell_type": "markdown",
   "metadata": {},
   "source": [
    "Have a pretty standar deviation with a uniform distribution of values. \\\n",
    "Most values between 200K and 350k, with a few outliers:\n",
    "- Croydon, with value 383,408\n",
    "- Barnet, with value 385,108\n",
    "- Kensington and Chelsea, with value 158,447\n",
    "- Kingston upon Thames, with value 173,853"
   ]
  },
  {
   "cell_type": "markdown",
   "metadata": {},
   "source": [
    "### GLA Household Estimate 2016"
   ]
  },
  {
   "cell_type": "markdown",
   "metadata": {},
   "source": [
    "Quite a difference between min and max values:\n",
    "\n",
    "- Kingston upon Thames, with value 69,132\n",
    "- Croydon, with value 156,979"
   ]
  },
  {
   "cell_type": "markdown",
   "metadata": {},
   "source": [
    "### Inland Area (Hectares)"
   ]
  },
  {
   "cell_type": "markdown",
   "metadata": {},
   "source": [
    "Most values centered on Q1(2834.9), with some extreme values:\n",
    "\n",
    "- Bromley, with value 15,013.5\n",
    "- Havering, with value 11,235\n",
    "- Hillingdon, with value 11,570.1"
   ]
  },
  {
   "cell_type": "markdown",
   "metadata": {},
   "source": [
    "### Population density (per hectare) 2016"
   ]
  },
  {
   "cell_type": "markdown",
   "metadata": {},
   "source": [
    "Standard deviation with some outliers:\n",
    "\n",
    "- Bromley, with value 21.7\n",
    "- Havering, with value 22.3\n",
    "- Tower Hamlets with value 149.1\n",
    "- Islington, with value 153"
   ]
  },
  {
   "cell_type": "markdown",
   "metadata": {},
   "source": [
    "### Average Age, 2016"
   ]
  },
  {
   "cell_type": "markdown",
   "metadata": {},
   "source": [
    "pretty standar with a mean of 36.04 and median of 35.9"
   ]
  },
  {
   "cell_type": "markdown",
   "metadata": {},
   "source": [
    "### Proportion of population aged 0-15, 2016"
   ]
  },
  {
   "cell_type": "markdown",
   "metadata": {},
   "source": [
    "All but one value around the mean of 19.456:\n",
    "- Camden, with value 8.8"
   ]
  },
  {
   "cell_type": "markdown",
   "metadata": {},
   "source": [
    "### Proportion of population of working-age, 2016"
   ]
  },
  {
   "cell_type": "markdown",
   "metadata": {},
   "source": [
    "Have a pretty distribution of values but looking above, we see that 15 must already a working age\n",
    "\n",
    "for instance Barking and Dagenham has aged 0-15 -> 21.0 and working-age -> 86.1"
   ]
  },
  {
   "cell_type": "markdown",
   "metadata": {},
   "source": [
    "### Proportion of population aged 65 and over, 2016"
   ]
  },
  {
   "cell_type": "markdown",
   "metadata": {},
   "source": [
    "Now analysing this collumn we see that the sum of this one and the above adds to 100, so working age is 65 and under, wich doesnt seem right to count this way\n",
    "\n",
    "i.e. Barking and Dagenham working-age -> 86.1 , 65+ age ->13.9"
   ]
  },
  {
   "cell_type": "markdown",
   "metadata": {},
   "source": [
    "### Net internal migration (2014)"
   ]
  },
  {
   "cell_type": "markdown",
   "metadata": {},
   "source": [
    "with a mean of -2149.125 and we see that there are more people leaving London, rather than entering."
   ]
  },
  {
   "cell_type": "markdown",
   "metadata": {},
   "source": [
    "### Net international migration (2014)\n",
    "\n",
    "we have a mean of 3348.5, meaning lots of people are coming to London from other countries, and seeing that the difference bettween both migrations is positve we can infer that population is increasing in London"
   ]
  },
  {
   "cell_type": "markdown",
   "metadata": {},
   "source": [
    "### Net natural change (2014)\n",
    "\n",
    "has a mean of 2572.59 and one outlier:\n",
    "- Newham, with value 5092"
   ]
  },
  {
   "cell_type": "markdown",
   "metadata": {},
   "source": [
    "### % of resident population born abroad (2014)\n",
    "\n",
    "Quite standar deviation\n",
    "- Enfield, with value 32.8\n",
    "- Greenwich, with value 32.9\n"
   ]
  },
  {
   "cell_type": "markdown",
   "metadata": {},
   "source": [
    "### Largest migrant population by country of birth (2011)\n",
    "\n",
    "we can see that India as the most instances with 10, nearly a 3rd"
   ]
  },
  {
   "cell_type": "markdown",
   "metadata": {},
   "source": [
    "### % of largest migrant population (2011)\n",
    "\n",
    "Most values are bellow 5, with some instances around 10 ad an extreme occurence:\n",
    "- Tower Hamlets, with value 15.3"
   ]
  },
  {
   "cell_type": "markdown",
   "metadata": {},
   "source": [
    "### Second largest migrant population by country of birth (2011)\n",
    "Like the first migration, most instances are from India but unlike before now India only has 6 instances (1/5) and thers more variation, since distinct values went from 11 to 15"
   ]
  },
  {
   "cell_type": "markdown",
   "metadata": {},
   "source": [
    "### % of second largest migrant population (2011)\n",
    "\n",
    "similar distribution to first one, since most values are bellow value 5, but this time only 3 values above it:\n",
    "- Ealing, with value 6.4\n",
    "- Newham, with value 6.8\n",
    "- Redbridge, with value 5.3"
   ]
  },
  {
   "cell_type": "markdown",
   "metadata": {},
   "source": [
    "### Third largest migrant population by country of birth (2011)\n",
    "\n",
    "biggest number of distinct values of the 3, with 17. \\\n",
    "greatest difference is that Ireland has greatest number of instances: 8"
   ]
  },
  {
   "cell_type": "markdown",
   "metadata": {},
   "source": [
    "### % of third largest migrant population (2011)\n",
    "distribution is closer to the 2nd migration, instead of 1st and most values are bellow 3 with only 2 outliers:\n",
    "- Harrow, with value 4.3\n",
    "- Newham, with value 5.3"
   ]
  },
  {
   "cell_type": "markdown",
   "metadata": {},
   "source": [
    "### % of population from BAME groups (2016)\n",
    "\n",
    "presents a standar deviation with a mean of 41.153 and an extremes at:\n",
    "- Newham, with value 73.1\n",
    "- Havering, with value 15.7\n",
    "- Richmond upon Thames, with value 15.7"
   ]
  },
  {
   "cell_type": "markdown",
   "metadata": {},
   "source": [
    "### % people aged 3+ whose main language is not English (2011 Census)\n",
    "\n",
    "quite the values, having a mean of 21.78 (1/5) of London's population are not English men and an extreme value of:\n",
    "- Newham, with a value of 41.4"
   ]
  },
  {
   "cell_type": "markdown",
   "metadata": {},
   "source": [
    "### Overseas nationals entering the UK (NINo), (2014/15)\n",
    "mostly centered around 10k with some outilers:\n",
    "- Brent, with value 25,130\n",
    "- Newham, with value 26,478"
   ]
  },
  {
   "cell_type": "markdown",
   "metadata": {},
   "source": [
    "### New migrant (NINo) rates, (2014/15)\n",
    "\n",
    "Quite a standar distribution with extremes at:\n",
    "-  Bexley, with value 14\n",
    "- Bromley, with value 14\n",
    "- Newham, with value 116"
   ]
  },
  {
   "cell_type": "markdown",
   "metadata": {},
   "source": [
    "### Largest migrant population arrived during 2014/15\n",
    "\n",
    "Quite interesting since there's only 5 distinct values:\n",
    "- Romania, with number of instances 18\n",
    "- Italy, with number of instances 8\n",
    "- Poland, with number of instances 3\n",
    "- Spain, with number of instances 2\n",
    "- Bulgaria, with number of instances 1"
   ]
  },
  {
   "cell_type": "markdown",
   "metadata": {},
   "source": [
    "### Second largest migrant population arrived during 2014/15\n",
    "\n",
    "with 9 distict values and Bulgaria jumping from last to first place\n",
    "- Italy, with number of instances 6\n",
    "- Bulgary, with number of instances 6"
   ]
  },
  {
   "cell_type": "markdown",
   "metadata": {},
   "source": [
    "### Third largest migrant population arrived during 2014/15\n",
    "Still 9 distinct values, but now Poland takes 1st place with most instances: 7"
   ]
  },
  {
   "cell_type": "markdown",
   "metadata": {},
   "source": [
    "### Employment rate (%) (2015)\n",
    "\n",
    "Not bad values having min and max:\n",
    "- Westminster, with value 65.6\n",
    "- Richmond upon Thames, with value 79.6"
   ]
  },
  {
   "cell_type": "markdown",
   "metadata": {},
   "source": [
    "### Male employment rate (2015)\n",
    "having a mean of 79.42, with a outier at:\n",
    "- Westminster, with value 68.6"
   ]
  },
  {
   "cell_type": "markdown",
   "metadata": {},
   "source": [
    "### Female employment rate (2015)\n",
    "more standar distribution compared to males, but as per usual lower mean : 66.53"
   ]
  },
  {
   "cell_type": "markdown",
   "metadata": {},
   "source": [
    "### Unemployment rate (2015)\n",
    "Mostly bellow 10, wich is good, but has an outlier:\n",
    "- Barking and Dagenham, with value 11"
   ]
  },
  {
   "cell_type": "markdown",
   "metadata": {},
   "source": [
    "### Youth Unemployment (claimant) rate 18-24 (Dec-14)\n",
    "\n",
    "Pretty standar, has a mean of 5.13 and min and max:\n",
    "- Kingston upon Thames, with value 2.8\n",
    "- Waltham Forest, with value 8"
   ]
  },
  {
   "cell_type": "markdown",
   "metadata": {},
   "source": [
    "### Proportion of 16-18 year olds who are NEET (%) (2014)\n",
    "very nice values beeing bellow 5, with some outliers:\n",
    "- Barking and Dagenham, with value 5.7\n",
    "- Islington, with value 5.2\n",
    "- Greenwich, with value 5"
   ]
  },
  {
   "cell_type": "markdown",
   "metadata": {},
   "source": [
    "### Proportion of the working-age population who claim out-of-work benefits (%) (Aug-2015)\n",
    "\n",
    "Standar deviation with extremes:\n",
    "- Barking and Dagenham, with value 11.7\n",
    "- Hackney, with value 11.7\n",
    "- Richmond upon Thames, with value 4.7"
   ]
  },
  {
   "cell_type": "markdown",
   "metadata": {},
   "source": [
    "### % working-age with a disability (2015)\n",
    "Centered around it«s mean (15.96) and an outlier:\n",
    "- Camden, with value 21.3"
   ]
  },
  {
   "cell_type": "markdown",
   "metadata": {},
   "source": [
    "### Proportion of working age people with no qualifications (%) 2015\n",
    "some extremes at\n",
    "- Waltham Forest, with value 11.6\n",
    "- Richmond upon Thames, with value 3.2"
   ]
  },
  {
   "cell_type": "markdown",
   "metadata": {},
   "source": [
    "### Proportion of working age with degree or equivalent and above (%) 2015\n",
    "quite a low mean (50) and a really low outlier:\n",
    "- Havering, with value 26"
   ]
  },
  {
   "cell_type": "markdown",
   "metadata": {},
   "source": [
    "### Gross Annual Pay, (2015)\n",
    "mainly arround its mean of 33,622 with a max:\n",
    "- Westminster, with value 42,798"
   ]
  },
  {
   "cell_type": "markdown",
   "metadata": {},
   "source": [
    "### Gross Annual Pay - Male (2015)\n",
    "Very similar distribution as above, but higher mean (36,339) and max:\n",
    "- Westminster, with value 45,872"
   ]
  },
  {
   "cell_type": "markdown",
   "metadata": {},
   "source": [
    "### Gross Annual Pay - Female (2015)\n",
    "Similar distribution but lower values with mean of 30,520 and max:\n",
    "- Westminster, with value 37,918"
   ]
  },
  {
   "cell_type": "markdown",
   "metadata": {},
   "source": [
    "### Modelled Household median income estimates 2012/13\n",
    "centered arround it's mean of 52,173 with an outlier:\n",
    "- Kensington and Chelsea, with value 116,350"
   ]
  },
  {
   "cell_type": "markdown",
   "metadata": {},
   "source": [
    "### % adults that volunteered in past 12 months (2010/11 to 2012/13)"
   ]
  },
  {
   "cell_type": "markdown",
   "metadata": {},
   "source": [
    "Have a pretty standar deviation with a uniform distribution of values.\n",
    "However, there are maybe 3 values that are distinguishable from others that are:\n",
    "- Newham, with value 8%\n",
    "- Richmond upon Thames, with value 49%\n",
    "- Kingston upon Thames, with value 43%"
   ]
  },
  {
   "cell_type": "markdown",
   "metadata": {},
   "source": [
    "### Number of jobs by workplace (2014)"
   ]
  },
  {
   "cell_type": "markdown",
   "metadata": {},
   "source": [
    "Have a peculiar distribution of values, clearly identifying the outliers of the distribution:\n",
    "- Westminster, with value 730700\n",
    "- Camden, with value 377400"
   ]
  },
  {
   "cell_type": "markdown",
   "metadata": {},
   "source": [
    "### % of employment that is in public sector (2014)"
   ]
  },
  {
   "cell_type": "markdown",
   "metadata": {},
   "source": [
    "Have a pretty distribution of values, being the values pretty close inside a certain range, but there is one value that outvalues the average in almost 10\n",
    "- Greenwich, with value 27.3%"
   ]
  },
  {
   "cell_type": "markdown",
   "metadata": {},
   "source": [
    "### Jobs Density, 2014"
   ]
  },
  {
   "cell_type": "markdown",
   "metadata": {},
   "source": [
    "Have a similar distribution equal to _Number of jobs by workplace (2014)_, being the two major outliers the values.\n",
    "For example, a jobs density of 1.0 would mean that there is one job for every resident aged 16-64.\n",
    "- Westminster, with value 4.33\n",
    "- Camden, with value 2.25"
   ]
  },
  {
   "cell_type": "markdown",
   "metadata": {},
   "source": [
    "### Number of active businesses, 2014"
   ]
  },
  {
   "cell_type": "markdown",
   "metadata": {},
   "source": [
    "Similar to to features like _Jobs Density, 2014_ the distribution is pretty similar, but there is one clear value that outvalues all the rest, but having other values that are somehow apart from the mean too.\n",
    "- Westminster, with value 53160"
   ]
  },
  {
   "cell_type": "markdown",
   "metadata": {},
   "source": [
    "### Two-year business survival rates (started in 2012)"
   ]
  },
  {
   "cell_type": "markdown",
   "metadata": {},
   "source": [
    "In this case, there is a different way of looking to data since the since there is one value that is apart from all the rest but with lower value, indicating that business have less chances of survival\n",
    "- Westminster, with value 64"
   ]
  },
  {
   "cell_type": "markdown",
   "metadata": {},
   "source": [
    "### Crime rates per thousand population 2014/15"
   ]
  },
  {
   "cell_type": "markdown",
   "metadata": {},
   "source": [
    "Looking at the distribution, once again its possible to see that the values are closed together with a little space, but there is one clear outlier that shows the big difference:\n",
    "- Westminster, with value 212.4"
   ]
  },
  {
   "cell_type": "markdown",
   "metadata": {},
   "source": [
    "### Fires per thousand population (2014)"
   ]
  },
  {
   "cell_type": "markdown",
   "metadata": {},
   "source": [
    "The distribution of values in this case appears to have two clear outliers that besides being outliers, dont' differ too much from the others\n",
    "- Westminster, with value 4\n",
    "- Tower Hamlets, with value 5"
   ]
  },
  {
   "cell_type": "markdown",
   "metadata": {},
   "source": [
    "### Ambulance incidents per hundred population (2014)"
   ]
  },
  {
   "cell_type": "markdown",
   "metadata": {},
   "source": [
    "Similar to previous distributions the values are concentrated in a particular value, being clear the one outlier:\n",
    "- Westminster, with value 19.9"
   ]
  },
  {
   "cell_type": "markdown",
   "metadata": {},
   "source": [
    "### Median House Price, 2014"
   ]
  },
  {
   "cell_type": "markdown",
   "metadata": {},
   "source": [
    "In terms of the distribution of values we now see that we are talking about thousands of pounds, and clearly identify two outliers:\n",
    "- Kensington and Chelsea, with value of 1195000 pounds (1 million)\n",
    "- Westminster, with value 875000 pounds"
   ]
  },
  {
   "cell_type": "markdown",
   "metadata": {},
   "source": [
    "### Average Band D Council Tax charge (£), 2015/16"
   ]
  },
  {
   "cell_type": "markdown",
   "metadata": {},
   "source": [
    "The distribution of values in this case is quite interesting because there are two outliers that are clearly distinguishable:\n",
    "- Westminster, with value 674\n",
    "- Wandsworth, with value 683"
   ]
  },
  {
   "cell_type": "markdown",
   "metadata": {},
   "source": [
    "### New Homes (net) 2014/15 (provisional)"
   ]
  },
  {
   "cell_type": "markdown",
   "metadata": {},
   "source": [
    "This distribution of these values are quite uniform, having one outlier above the rest, and one outlier below the rest of the rest which are\n",
    "- Newham, with value 2050\n",
    "- Haringey, with value 130"
   ]
  },
  {
   "cell_type": "markdown",
   "metadata": {},
   "source": [
    "### Homes Owned outright, (2014) %"
   ]
  },
  {
   "cell_type": "markdown",
   "metadata": {},
   "source": [
    "The distribution of values is pretty much standard, no outliers or values or values to far from the mean, but with high range levels. Examples of the min and max:\n",
    "- Tower Hamlets, with value 7\n",
    "- Bexley, with value 38.1"
   ]
  },
  {
   "cell_type": "markdown",
   "metadata": {},
   "source": [
    "### Being bought with mortgage or loan, (2014) %"
   ]
  },
  {
   "cell_type": "markdown",
   "metadata": {},
   "source": [
    "Once again the values are well distributed not having clear outliers, but again the range is noticeable:\n",
    "- Westminster, with value 11.6\n",
    "- Sutton, with value 41.8"
   ]
  },
  {
   "cell_type": "markdown",
   "metadata": {},
   "source": [
    "### Rented from Local Authority or Housing Association, (2014) %"
   ]
  },
  {
   "cell_type": "markdown",
   "metadata": {},
   "source": [
    "This distribution is somehow interesting in terms of data separation. It seems to have like 2 clusters spearating  sets of values. TODO: Might be analysed better later\n",
    "- Richmond upon Thames, with value 8.7\n",
    "- Hackney, with value 45.4"
   ]
  },
  {
   "cell_type": "markdown",
   "metadata": {},
   "source": [
    "### Rented from Private landlord, (2014) %"
   ]
  },
  {
   "cell_type": "markdown",
   "metadata": {},
   "source": [
    "In terms of values it seems to have a uniform distribution but some values are over and under the mean and seem a little to deviated from the others:\n",
    "- Westminster, with value 43.3\n",
    "- Bexley, with value 11.4\n",
    "- Havering, with value 13.8"
   ]
  },
  {
   "cell_type": "markdown",
   "metadata": {},
   "source": [
    "### % of area that is Greenspace, 2005"
   ]
  },
  {
   "cell_type": "markdown",
   "metadata": {},
   "source": [
    "It's somehow a standard distribution but there is a clear value that is superior to the rest of the distribution.\n",
    "- Havering, with value 59.3"
   ]
  },
  {
   "cell_type": "markdown",
   "metadata": {},
   "source": [
    "### Total carbon emissions (2013)"
   ]
  },
  {
   "cell_type": "markdown",
   "metadata": {},
   "source": [
    "Similar to previous distributions there is a clear distribution of values where a couple of values stand out from the rest. Values in tons\n",
    "- Westminster, with value 3048.4\n",
    "- Hillingdon, with value 1998.4\n",
    "- Tower Hamlets, with value 1948.3"
   ]
  },
  {
   "cell_type": "markdown",
   "metadata": {},
   "source": [
    "### Household Waste Recycling Rate, 2014/15"
   ]
  },
  {
   "cell_type": "markdown",
   "metadata": {},
   "source": [
    "In terms of value distribution it's pretty much uniform, having only a max value that might be a little away from the average but besides that everything standard.\n",
    "- Lewisham, with value 17.1\n",
    "- Bexley, with value 54"
   ]
  },
  {
   "cell_type": "markdown",
   "metadata": {},
   "source": [
    "### Number of cars, (2011 Census)"
   ]
  },
  {
   "cell_type": "markdown",
   "metadata": {},
   "source": [
    "The distribution of values is pretty standard but there are once again values that are a bit bigger than the average, and a bit low too. The range of values is indcredibly high.\n",
    "- Islington, with value 38629\n",
    "- Bromley, with value 153908"
   ]
  },
  {
   "cell_type": "markdown",
   "metadata": {},
   "source": [
    "### % of adults who cycle at least once per month, 2013/14"
   ]
  },
  {
   "cell_type": "markdown",
   "metadata": {},
   "source": [
    "The values are pretty standard with a reasonable mean value, but there is one place where a lot of people cycle at least onece a month that is way bigger than the rest\n",
    "- Richmond upon Thames, with value 31.7"
   ]
  },
  {
   "cell_type": "markdown",
   "metadata": {},
   "source": [
    "### Average Public Transport Accessibility score, 2014"
   ]
  },
  {
   "cell_type": "markdown",
   "metadata": {},
   "source": [
    "the distribution is quite normal but there are a couple of values that are \"away\" from the most common values.\n",
    "- Westminster, with value 6.5\n",
    "- Kensington and Chelsea, with value 5.8\n",
    "- Camden, with value 5.7\n",
    "- Islington, with value 5.7"
   ]
  },
  {
   "cell_type": "markdown",
   "metadata": {},
   "source": [
    "### Achievement of 5 or more A*- C grades at GCSE or equivalent including English and Maths, 2013/14"
   ]
  },
  {
   "cell_type": "markdown",
   "metadata": {},
   "source": [
    "A bit odd distribution similar to previous cases where it seems to have two separate groups of data. In each of those groups the values that stand out are:\n",
    "- Richmond upon Thames, with value 70.5\n",
    "- Newham, with value 55.7"
   ]
  },
  {
   "cell_type": "markdown",
   "metadata": {},
   "source": [
    "### Rates of Children Looked After (2015)"
   ]
  },
  {
   "cell_type": "markdown",
   "metadata": {},
   "source": [
    "Once again this distribution almost suggest two great groups. Values that stand out are:\n",
    "- Islington, with value 90\n",
    "- Richmond upon Thames, with value 22"
   ]
  },
  {
   "cell_type": "markdown",
   "metadata": {},
   "source": [
    "### % of pupils whose first language is not English (2015)"
   ]
  },
  {
   "cell_type": "markdown",
   "metadata": {},
   "source": [
    "In this distribution we can see that in many of the boroughs there is wide variety of pupils whose firts language is not english. However, there are still Boroughs that have a very low percentage compared to the rest.\n",
    "- Bromley, with value 10.8\n",
    "- Havering, with value 12.5\n",
    "- Tower Hamlets, with value 73.8"
   ]
  },
  {
   "cell_type": "markdown",
   "metadata": {},
   "source": [
    "### % children living in out-of-work households (2014)"
   ]
  },
  {
   "cell_type": "markdown",
   "metadata": {},
   "source": [
    "In this case the distribution of values is pretty standard where the values are near the mean, but there are values that stand out because of it's value compared to the mean\n",
    "- Richmond upon Thames, with value 6.1\n",
    "- Islington, with value 26.4"
   ]
  },
  {
   "cell_type": "markdown",
   "metadata": {},
   "source": [
    "### Male life expectancy, (2012-14)"
   ]
  },
  {
   "cell_type": "markdown",
   "metadata": {},
   "source": [
    "In terms of of values the distribution is pretty standard having a slightly inclination to more higher values. One of low values is:\n",
    "- Barking and Dagenham, with value 77.6"
   ]
  },
  {
   "cell_type": "markdown",
   "metadata": {},
   "source": [
    "### Female life expectancy, (2012-14)"
   ]
  },
  {
   "cell_type": "markdown",
   "metadata": {},
   "source": [
    "The values on this distribution seem to have a 3 cluster group apart from each other even though their values are really close. Two values that are more apart from the mean are\n",
    "- Barking and Dagenham, with value 82.1\n",
    "- Camden, with value 86.7"
   ]
  },
  {
   "cell_type": "markdown",
   "metadata": {},
   "source": [
    "### Anxiety score 2011-14 (out of 10)"
   ]
  },
  {
   "cell_type": "markdown",
   "metadata": {},
   "source": [
    "The distribution has a little more tendency for higher values even though the difference is really short. However, one value to stand out is:\n",
    "- Enfield, with value 2.6"
   ]
  },
  {
   "cell_type": "markdown",
   "metadata": {},
   "source": [
    "### Childhood Obesity Prevalance (%) 2014/15"
   ]
  },
  {
   "cell_type": "markdown",
   "metadata": {},
   "source": [
    "In terms of data there is a clear distinction of values that are apart from the mean, and the most evident one is:\n",
    "- Richmond upon Thames, with value 11.2"
   ]
  },
  {
   "cell_type": "markdown",
   "metadata": {},
   "source": [
    "### Mortality rate from causes considered preventable 2012/14"
   ]
  },
  {
   "cell_type": "markdown",
   "metadata": {},
   "source": [
    "This distribution is somehow standard more to the side of less values, but there are two incredible values that stand out and represent places where a lot of mortality could be avoided\n",
    "- Tower Hamlets, with value 238.7\n",
    "- Barking and Dagenham, with value 227.6"
   ]
  },
  {
   "cell_type": "markdown",
   "metadata": {},
   "source": [
    "### Political control in council"
   ]
  },
  {
   "cell_type": "markdown",
   "metadata": {},
   "source": [
    "A non standard distribution where it's clear the most common values. The ones apart from the \"regular\" are\n",
    "- Tower Hamlets, with 'Tower Hamlets First'\n",
    "- Sutton, with 'Lib Dem'\n",
    "- Havering, with 'No Overall Control'"
   ]
  },
  {
   "cell_type": "markdown",
   "metadata": {},
   "source": [
    "### Proportion of seats won by Conservatives in 2014 election"
   ]
  },
  {
   "cell_type": "markdown",
   "metadata": {},
   "source": [
    "An odd distribution where the most common value is 0, but some high values too\n",
    "- Barking and Dagenham, Haringey, Islington, Lewisham, Newham, with value 0\n",
    "- Bromley, with value 85"
   ]
  },
  {
   "cell_type": "markdown",
   "metadata": {},
   "source": [
    "### Proportion of seats won by Labour in 2014 election"
   ]
  },
  {
   "cell_type": "markdown",
   "metadata": {},
   "source": [
    "A somewhat similiar distribution like above, where there are a smaller percentage of 0's, but some high values too\n",
    "- Richmond upon Thames, Sutton, with value 0\n",
    "- Barking and Dagenham, Newham, with value 0"
   ]
  },
  {
   "cell_type": "markdown",
   "metadata": {},
   "source": [
    "### Proportion of seats won by Lib Dems in 2014 election"
   ]
  },
  {
   "cell_type": "markdown",
   "metadata": {},
   "source": [
    "Nothing like the distributions above, this one is very clear in terms of transmiting information. Most of the boroughs have 0 seats won by the liberal and only a few percentage had. From those, the majority has a low proportion and only one had a great value. All the boroughs that are not mentioned below either has 0, or below 6%\n",
    "- Sutton, wtih value 83.3\n",
    "- Kingston upon Thames, with value 37.5\n",
    "- Richmond upon Thames, with value 27.8\n",
    "- Southwark, with value 20.6\n",
    "- Haringey, with value 15.8"
   ]
  },
  {
   "cell_type": "markdown",
   "metadata": {},
   "source": [
    "### Turnout at 2014 local elections"
   ]
  },
  {
   "cell_type": "markdown",
   "metadata": {},
   "source": [
    "The distribution is quite standard but with clear values that are apart from all the others\n",
    "- Tower Hamlets, with value 47.2\n",
    "- Richmond upon Thames, with value 46.1\n",
    "- Kensington and Chelsea, with value 29.8\n",
    "- Westminster, with valiue 32.3\n",
    "- Lambeth, with value 34.5"
   ]
  },
  {
   "cell_type": "markdown",
   "metadata": {},
   "source": [
    "## Merging Into Final Demographics Files"
   ]
  },
  {
   "cell_type": "code",
   "execution_count": 9,
   "metadata": {},
   "outputs": [
    {
     "name": "stdout",
     "output_type": "stream",
     "text": [
      "(32, 77)\n"
     ]
    },
    {
     "data": {
      "text/html": [
       "<div>\n",
       "<style scoped>\n",
       "    .dataframe tbody tr th:only-of-type {\n",
       "        vertical-align: middle;\n",
       "    }\n",
       "\n",
       "    .dataframe tbody tr th {\n",
       "        vertical-align: top;\n",
       "    }\n",
       "\n",
       "    .dataframe thead th {\n",
       "        text-align: right;\n",
       "    }\n",
       "</style>\n",
       "<table border=\"1\" class=\"dataframe\">\n",
       "  <thead>\n",
       "    <tr style=\"text-align: right;\">\n",
       "      <th></th>\n",
       "      <th>Area name</th>\n",
       "      <th>Inner/ Outer London</th>\n",
       "      <th>GLA Population Estimate 2016</th>\n",
       "      <th>GLA Household Estimate 2016</th>\n",
       "      <th>Inland Area (Hectares)</th>\n",
       "      <th>Population density (per hectare) 2016</th>\n",
       "      <th>Average Age, 2016</th>\n",
       "      <th>Proportion of population aged 0-15, 2016</th>\n",
       "      <th>Proportion of population of working-age, 2016</th>\n",
       "      <th>Proportion of population aged 65 and over, 2016</th>\n",
       "      <th>...</th>\n",
       "      <th>Male life expectancy, (2012-14)</th>\n",
       "      <th>Female life expectancy, (2012-14)</th>\n",
       "      <th>Anxiety score 2011-14 (out of 10)</th>\n",
       "      <th>Childhood Obesity Prevalance (%) 2014/15</th>\n",
       "      <th>Mortality rate from causes considered preventable 2012/14</th>\n",
       "      <th>Political control in council</th>\n",
       "      <th>Proportion of seats won by Conservatives in 2014 election</th>\n",
       "      <th>Proportion of seats won by Labour in 2014 election</th>\n",
       "      <th>Proportion of seats won by Lib Dems in 2014 election</th>\n",
       "      <th>Turnout at 2014 local elections</th>\n",
       "    </tr>\n",
       "  </thead>\n",
       "  <tbody>\n",
       "    <tr>\n",
       "      <th>2</th>\n",
       "      <td>Barking and Dagenham</td>\n",
       "      <td>Outer London</td>\n",
       "      <td>205773.0</td>\n",
       "      <td>76841.0</td>\n",
       "      <td>3610.8</td>\n",
       "      <td>57.3</td>\n",
       "      <td>32.9</td>\n",
       "      <td>21.0</td>\n",
       "      <td>86.1</td>\n",
       "      <td>13.9</td>\n",
       "      <td>...</td>\n",
       "      <td>77.6</td>\n",
       "      <td>82.1</td>\n",
       "      <td>3.05</td>\n",
       "      <td>25.3</td>\n",
       "      <td>227.6</td>\n",
       "      <td>Lab</td>\n",
       "      <td>0.0</td>\n",
       "      <td>100.0</td>\n",
       "      <td>0.0</td>\n",
       "      <td>36.5</td>\n",
       "    </tr>\n",
       "    <tr>\n",
       "      <th>3</th>\n",
       "      <td>Barnet</td>\n",
       "      <td>Outer London</td>\n",
       "      <td>385108.0</td>\n",
       "      <td>149147.0</td>\n",
       "      <td>8674.8</td>\n",
       "      <td>44.5</td>\n",
       "      <td>37.2</td>\n",
       "      <td>21.0</td>\n",
       "      <td>83.3</td>\n",
       "      <td>16.7</td>\n",
       "      <td>...</td>\n",
       "      <td>82.1</td>\n",
       "      <td>85.1</td>\n",
       "      <td>2.75</td>\n",
       "      <td>18.4</td>\n",
       "      <td>133.8</td>\n",
       "      <td>Cons</td>\n",
       "      <td>50.8</td>\n",
       "      <td>47.6</td>\n",
       "      <td>1.6</td>\n",
       "      <td>40.5</td>\n",
       "    </tr>\n",
       "    <tr>\n",
       "      <th>4</th>\n",
       "      <td>Bexley</td>\n",
       "      <td>Outer London</td>\n",
       "      <td>243303.0</td>\n",
       "      <td>97233.0</td>\n",
       "      <td>6058.1</td>\n",
       "      <td>39.9</td>\n",
       "      <td>38.9</td>\n",
       "      <td>20.8</td>\n",
       "      <td>89.0</td>\n",
       "      <td>11.0</td>\n",
       "      <td>...</td>\n",
       "      <td>80.4</td>\n",
       "      <td>84.4</td>\n",
       "      <td>3.29</td>\n",
       "      <td>21.4</td>\n",
       "      <td>164.3</td>\n",
       "      <td>Cons</td>\n",
       "      <td>71.4</td>\n",
       "      <td>23.8</td>\n",
       "      <td>0.0</td>\n",
       "      <td>39.6</td>\n",
       "    </tr>\n",
       "    <tr>\n",
       "      <th>5</th>\n",
       "      <td>Brent</td>\n",
       "      <td>Outer London</td>\n",
       "      <td>328568.0</td>\n",
       "      <td>119166.0</td>\n",
       "      <td>4323.3</td>\n",
       "      <td>76.1</td>\n",
       "      <td>35.5</td>\n",
       "      <td>20.1</td>\n",
       "      <td>82.5</td>\n",
       "      <td>17.5</td>\n",
       "      <td>...</td>\n",
       "      <td>80.1</td>\n",
       "      <td>85.1</td>\n",
       "      <td>2.92</td>\n",
       "      <td>23.9</td>\n",
       "      <td>169.4</td>\n",
       "      <td>Lab</td>\n",
       "      <td>9.5</td>\n",
       "      <td>88.9</td>\n",
       "      <td>1.6</td>\n",
       "      <td>36.3</td>\n",
       "    </tr>\n",
       "    <tr>\n",
       "      <th>6</th>\n",
       "      <td>Bromley</td>\n",
       "      <td>Outer London</td>\n",
       "      <td>326560.0</td>\n",
       "      <td>139654.0</td>\n",
       "      <td>15013.5</td>\n",
       "      <td>21.7</td>\n",
       "      <td>40.1</td>\n",
       "      <td>15.8</td>\n",
       "      <td>88.4</td>\n",
       "      <td>11.6</td>\n",
       "      <td>...</td>\n",
       "      <td>81.4</td>\n",
       "      <td>84.9</td>\n",
       "      <td>3.26</td>\n",
       "      <td>16.5</td>\n",
       "      <td>148.5</td>\n",
       "      <td>Cons</td>\n",
       "      <td>85.0</td>\n",
       "      <td>11.7</td>\n",
       "      <td>0.0</td>\n",
       "      <td>40.8</td>\n",
       "    </tr>\n",
       "  </tbody>\n",
       "</table>\n",
       "<p>5 rows × 77 columns</p>\n",
       "</div>"
      ],
      "text/plain": [
       "              Area name Inner/ Outer London  GLA Population Estimate 2016  \\\n",
       "2  Barking and Dagenham        Outer London                      205773.0   \n",
       "3                Barnet        Outer London                      385108.0   \n",
       "4                Bexley        Outer London                      243303.0   \n",
       "5                 Brent        Outer London                      328568.0   \n",
       "6               Bromley        Outer London                      326560.0   \n",
       "\n",
       "   GLA Household Estimate 2016  Inland Area (Hectares)  \\\n",
       "2                      76841.0                  3610.8   \n",
       "3                     149147.0                  8674.8   \n",
       "4                      97233.0                  6058.1   \n",
       "5                     119166.0                  4323.3   \n",
       "6                     139654.0                 15013.5   \n",
       "\n",
       "   Population density (per hectare) 2016  Average Age, 2016  \\\n",
       "2                                   57.3               32.9   \n",
       "3                                   44.5               37.2   \n",
       "4                                   39.9               38.9   \n",
       "5                                   76.1               35.5   \n",
       "6                                   21.7               40.1   \n",
       "\n",
       "   Proportion of population aged 0-15, 2016  \\\n",
       "2                                      21.0   \n",
       "3                                      21.0   \n",
       "4                                      20.8   \n",
       "5                                      20.1   \n",
       "6                                      15.8   \n",
       "\n",
       "   Proportion of population of working-age, 2016  \\\n",
       "2                                           86.1   \n",
       "3                                           83.3   \n",
       "4                                           89.0   \n",
       "5                                           82.5   \n",
       "6                                           88.4   \n",
       "\n",
       "   Proportion of population aged 65 and over, 2016  ...  \\\n",
       "2                                             13.9  ...   \n",
       "3                                             16.7  ...   \n",
       "4                                             11.0  ...   \n",
       "5                                             17.5  ...   \n",
       "6                                             11.6  ...   \n",
       "\n",
       "   Male life expectancy, (2012-14)  Female life expectancy, (2012-14)  \\\n",
       "2                             77.6                               82.1   \n",
       "3                             82.1                               85.1   \n",
       "4                             80.4                               84.4   \n",
       "5                             80.1                               85.1   \n",
       "6                             81.4                               84.9   \n",
       "\n",
       "   Anxiety score 2011-14 (out of 10)  \\\n",
       "2                               3.05   \n",
       "3                               2.75   \n",
       "4                               3.29   \n",
       "5                               2.92   \n",
       "6                               3.26   \n",
       "\n",
       "   Childhood Obesity Prevalance (%) 2014/15  \\\n",
       "2                                      25.3   \n",
       "3                                      18.4   \n",
       "4                                      21.4   \n",
       "5                                      23.9   \n",
       "6                                      16.5   \n",
       "\n",
       "  Mortality rate from causes considered preventable 2012/14  \\\n",
       "2                                              227.6          \n",
       "3                                              133.8          \n",
       "4                                              164.3          \n",
       "5                                              169.4          \n",
       "6                                              148.5          \n",
       "\n",
       "   Political control in council  \\\n",
       "2                           Lab   \n",
       "3                          Cons   \n",
       "4                          Cons   \n",
       "5                           Lab   \n",
       "6                          Cons   \n",
       "\n",
       "  Proportion of seats won by Conservatives in 2014 election  \\\n",
       "2                                                0.0          \n",
       "3                                               50.8          \n",
       "4                                               71.4          \n",
       "5                                                9.5          \n",
       "6                                               85.0          \n",
       "\n",
       "   Proportion of seats won by Labour in 2014 election  \\\n",
       "2                                              100.0    \n",
       "3                                               47.6    \n",
       "4                                               23.8    \n",
       "5                                               88.9    \n",
       "6                                               11.7    \n",
       "\n",
       "  Proportion of seats won by Lib Dems in 2014 election  \\\n",
       "2                                                0.0     \n",
       "3                                                1.6     \n",
       "4                                                0.0     \n",
       "5                                                1.6     \n",
       "6                                                0.0     \n",
       "\n",
       "   Turnout at 2014 local elections  \n",
       "2                             36.5  \n",
       "3                             40.5  \n",
       "4                             39.6  \n",
       "5                             36.3  \n",
       "6                             40.8  \n",
       "\n",
       "[5 rows x 77 columns]"
      ]
     },
     "execution_count": 9,
     "metadata": {},
     "output_type": "execute_result"
    }
   ],
   "source": [
    "print(demographics.shape)\n",
    "demographics.head()"
   ]
  },
  {
   "cell_type": "code",
   "execution_count": 10,
   "metadata": {},
   "outputs": [
    {
     "ename": "NameError",
     "evalue": "name 'crimes_df' is not defined",
     "output_type": "error",
     "traceback": [
      "\u001b[1;31m---------------------------------------------------------------------------\u001b[0m",
      "\u001b[1;31mNameError\u001b[0m                                 Traceback (most recent call last)",
      "\u001b[1;32m<ipython-input-10-e5ab9985518c>\u001b[0m in \u001b[0;36m<module>\u001b[1;34m\u001b[0m\n\u001b[1;32m----> 1\u001b[1;33m \u001b[0mcrimes_df\u001b[0m \u001b[1;33m=\u001b[0m \u001b[0mcrimes_df\u001b[0m\u001b[1;33m.\u001b[0m\u001b[0mreset_index\u001b[0m\u001b[1;33m(\u001b[0m\u001b[0mdrop\u001b[0m\u001b[1;33m=\u001b[0m\u001b[1;32mTrue\u001b[0m\u001b[1;33m)\u001b[0m\u001b[1;33m\u001b[0m\u001b[1;33m\u001b[0m\u001b[0m\n\u001b[0m\u001b[0;32m      2\u001b[0m \u001b[0mcrimes_df\u001b[0m\u001b[1;33m[\u001b[0m\u001b[1;34m'crime_id'\u001b[0m\u001b[1;33m]\u001b[0m \u001b[1;33m=\u001b[0m \u001b[0mcrimes_df\u001b[0m\u001b[1;33m.\u001b[0m\u001b[0mindex\u001b[0m\u001b[1;33m\u001b[0m\u001b[1;33m\u001b[0m\u001b[0m\n",
      "\u001b[1;31mNameError\u001b[0m: name 'crimes_df' is not defined"
     ]
    }
   ],
   "source": [
    "crimes_df = crimes_df.reset_index(drop=True)\n",
    "crimes_df['crime_id'] = crimes_df.index "
   ]
  },
  {
   "cell_type": "code",
   "execution_count": null,
   "metadata": {},
   "outputs": [],
   "source": [
    "demographics = demographics.reset_index(drop=True)\n",
    "demographics['borough_id'] = demographics.index"
   ]
  },
  {
   "cell_type": "code",
   "execution_count": null,
   "metadata": {},
   "outputs": [],
   "source": [
    "print(demographics.shape)\n",
    "demographics.head()"
   ]
  },
  {
   "cell_type": "code",
   "execution_count": null,
   "metadata": {},
   "outputs": [],
   "source": [
    "compression_opts = dict(method='zip',\n",
    "                        archive_name='demographics.csv')\n",
    "\n",
    "demographics.to_csv('demographics.zip',\n",
    "                    compression=compression_opts,\n",
    "                    index=False)\n"
   ]
  },
  {
   "cell_type": "code",
   "execution_count": null,
   "metadata": {},
   "outputs": [],
   "source": [
    "for r in crimes.iterrows():\n",
    "    print(r[1][1])\n",
    "    crimes.at[r[0],'crime_id'] = crimes_df.loc[(crimes_df['major_category'] == r[1][1]) & (crimes_df['minor_category'] == r[1][2])].index[0]\n",
    "    crimes.at[r[0],'date_id'] = date_df.loc[(date_df['year'] == r[1][4]) & (date_df['month'] == r[1][5])].index[0]\n",
    "    crimes.at[r[0],'borough_id'] = demographics.loc[(demographics['Area Name'] == r[1][1])]\n",
    "    break\n",
    "\n",
    "crimes.head()"
   ]
  }
 ],
 "metadata": {
  "colab": {
   "collapsed_sections": [
    "xTM2nPa0-__h",
    "vK9CsybogAwu",
    "uxXqHdp8DNbH",
    "kVpfYddTlEA3"
   ],
   "name": "IPAI.ipynb",
   "provenance": [],
   "toc_visible": true
  },
  "kernelspec": {
   "display_name": "Python 3",
   "language": "python",
   "name": "python3"
  },
  "language_info": {
   "codemirror_mode": {
    "name": "ipython",
    "version": 3
   },
   "file_extension": ".py",
   "mimetype": "text/x-python",
   "name": "python",
   "nbconvert_exporter": "python",
   "pygments_lexer": "ipython3",
   "version": "3.8.5"
  }
 },
 "nbformat": 4,
 "nbformat_minor": 4
}
