{
 "cells": [
  {
   "cell_type": "markdown",
   "metadata": {},
   "source": [
    "# 0.1 Imports"
   ]
  },
  {
   "cell_type": "code",
   "execution_count": 1,
   "metadata": {},
   "outputs": [],
   "source": [
    "import pandas as pd\n",
    "import numpy as np\n",
    "import os"
   ]
  },
  {
   "cell_type": "markdown",
   "metadata": {},
   "source": [
    "# 0.2 Funções Auxiliares"
   ]
  },
  {
   "cell_type": "code",
   "execution_count": 2,
   "metadata": {},
   "outputs": [],
   "source": [
    "# Checking all columns values from a given data frame\n",
    "def checkColumnsValues(dataFrame):\n",
    "    col_vals = {}\n",
    "    for i in dataFrame.columns:\n",
    "        sorted = dataFrame[i].unique().tolist()\n",
    "        #sorted.sort()\n",
    "        col_vals[i] = [sorted]\n",
    "    return pd.DataFrame(col_vals)"
   ]
  },
  {
   "cell_type": "code",
   "execution_count": 3,
   "metadata": {},
   "outputs": [],
   "source": [
    "def create_word_dict(arr):\n",
    "    word_dict = {}\n",
    "    for i in arr:\n",
    "        if len(i.split()) not in word_dict:\n",
    "            word_dict[len(i.split())] = []\n",
    "        word_dict[len(i.split())].append(i)\n",
    "    \n",
    "    return word_dict"
   ]
  },
  {
   "cell_type": "markdown",
   "metadata": {},
   "source": [
    "# 0.3 Load csvs"
   ]
  },
  {
   "cell_type": "code",
   "execution_count": 4,
   "metadata": {},
   "outputs": [],
   "source": [
    "crimes_1 = pd.read_csv('D:/Universidade-Fcul/2_semestre/TPD/projeto/BoroughCrimes.csv')\n",
    "crimes_2 = pd.read_csv('D:/Universidade-Fcul/2_semestre/TPD/projeto/MPS Borough Level Crime.csv')\n",
    "demographics = pd.read_csv('D:/Universidade-Fcul/2_semestre/TPD/projeto/demographics.csv')"
   ]
  },
  {
   "cell_type": "code",
   "execution_count": 5,
   "metadata": {},
   "outputs": [
    {
     "name": "stdout",
     "output_type": "stream",
     "text": [
      "crimes1 shape: 3861000\n",
      "crimes2 shape: 1052\n"
     ]
    }
   ],
   "source": [
    "print('crimes1 shape:', crimes_1.shape[0])\n",
    "print('crimes2 shape:', crimes_2.shape[0])"
   ]
  },
  {
   "cell_type": "markdown",
   "metadata": {},
   "source": [
    "# 1. Comparar crime Dataframes"
   ]
  },
  {
   "cell_type": "code",
   "execution_count": 6,
   "metadata": {},
   "outputs": [
    {
     "name": "stdout",
     "output_type": "stream",
     "text": [
      "Major Categorys are equal?  True\n",
      "Minor Categorys are equal?  False\n",
      "Boroughs are equal?  False\n"
     ]
    }
   ],
   "source": [
    "# Major Categorys\n",
    "crimes_1_Mc = crimes_1['major_category'].sort_values(ascending=True).unique().tolist()\n",
    "crimes_2_Mc = crimes_2['Major Category'].sort_values(ascending=True).unique().tolist()\n",
    "print('Major Categorys are equal? ',crimes_1_Mc == crimes_2_Mc)\n",
    "\n",
    "# Minor Categorys\n",
    "crimes_1_mc = crimes_1['minor_category'].sort_values(ascending=True).unique().tolist()\n",
    "crimes_2_mc = crimes_2['Minor Category'].sort_values(ascending=True).unique().tolist()\n",
    "print('Minor Categorys are equal? ',crimes_1_mc == crimes_2_mc)\n",
    "\n",
    "# Boroughs\n",
    "crimes_1_b = crimes_1['borough'].sort_values(ascending=True).unique().tolist()\n",
    "crimes_2_b = crimes_2['Borough'].sort_values(ascending=True).unique().tolist()\n",
    "print('Boroughs are equal? ',crimes_1_b == crimes_2_b)"
   ]
  },
  {
   "cell_type": "markdown",
   "metadata": {},
   "source": [
    "As major categories coincidem em ambos os dataframes, mas os bairros e as minor caregorys precisão de uma analise em mais detalhe."
   ]
  },
  {
   "cell_type": "markdown",
   "metadata": {},
   "source": [
    "### 1.1 Comparar Boroughs"
   ]
  },
  {
   "cell_type": "code",
   "execution_count": 7,
   "metadata": {},
   "outputs": [],
   "source": [
    "crime_1_words = create_word_dict(crimes_1_b)\n",
    "crime_2_words = create_word_dict(crimes_2_b)"
   ]
  },
  {
   "cell_type": "code",
   "execution_count": 20,
   "metadata": {},
   "outputs": [
    {
     "name": "stdout",
     "output_type": "stream",
     "text": [
      "Are crimes 1 boroughs (len = 1) in crimes 2 boroughs?  [True, True, True, True, True, True, True]\n",
      "Are crimes 1 boroughs (len = 3) in crimes 2 boroughs?  [False, True, True]\n"
     ]
    }
   ],
   "source": [
    "equal = []\n",
    "for i in crime_1_words[1]:\n",
    "    equal.append(i in crime_2_words[1])\n",
    "\n",
    "print('Are crimes 1 boroughs (len = 1) in crimes 2 boroughs? ', equal)\n",
    "\n",
    "equal = []\n",
    "for i in crime_1_words[3]:\n",
    "    equal.append(i in crime_2_words[3])\n",
    "    \n",
    "print('Are crimes 1 boroughs (len = 3) in crimes 2 boroughs? ', equal)"
   ]
  },
  {
   "cell_type": "markdown",
   "metadata": {},
   "source": [
    "1. Todos os boroughs de crimes 1 estão escritos da mesma maneira no boroughs 2.\n",
    "2. Comparando as palavras de tamanho 3, vimos que a unica cidade diferente é 'City of london' e visto que vamos remover esta cidade nos passos futuros devido a analise do dataframe 'demographics' isto nao representa um problema."
   ]
  },
  {
   "cell_type": "markdown",
   "metadata": {},
   "source": [
    "### 1.2 Comparar Minor Categorys"
   ]
  },
  {
   "cell_type": "code",
   "execution_count": 9,
   "metadata": {},
   "outputs": [],
   "source": [
    "crime_1_words = create_word_dict(crimes_1_mc)\n",
    "crime_2_words = create_word_dict(crimes_2_mc)"
   ]
  },
  {
   "cell_type": "code",
   "execution_count": 10,
   "metadata": {},
   "outputs": [],
   "source": [
    "# print(crime_1_words)\n",
    "# print(crime_2_words)"
   ]
  },
  {
   "cell_type": "code",
   "execution_count": 11,
   "metadata": {},
   "outputs": [
    {
     "name": "stdout",
     "output_type": "stream",
     "text": [
      "Minor Category Size 1, [True, True, True, True]\n",
      "Minor Category Size 2, [True, True, True, True]\n",
      "Minor Category Size 3, [True, True, True, True]\n",
      "Minor Category Size 4, [True, True, True, True]\n",
      "Minor Category Size 5, [True, True, True, True]\n"
     ]
    }
   ],
   "source": [
    "for n in range(1,6):\n",
    "    equal = []\n",
    "    for i in crime_1_words[1]:\n",
    "        equal.append(i in crime_2_words[1])\n",
    "    print('Minor Category Size {size}, {e}'.format(size = n, e = equal))"
   ]
  },
  {
   "cell_type": "markdown",
   "metadata": {},
   "source": [
    "Olhando para as minor categoriesm conseguimos ver todas elas estão escritas da mesma  maneira. Podemos então proceguir com o merge destes dataframes."
   ]
  },
  {
   "cell_type": "markdown",
   "metadata": {},
   "source": [
    "#### Transform crimes_2 into crimes_1 format, for merging"
   ]
  },
  {
   "cell_type": "code",
   "execution_count": 12,
   "metadata": {},
   "outputs": [
    {
     "data": {
      "text/html": [
       "<div>\n",
       "<style scoped>\n",
       "    .dataframe tbody tr th:only-of-type {\n",
       "        vertical-align: middle;\n",
       "    }\n",
       "\n",
       "    .dataframe tbody tr th {\n",
       "        vertical-align: top;\n",
       "    }\n",
       "\n",
       "    .dataframe thead th {\n",
       "        text-align: right;\n",
       "    }\n",
       "</style>\n",
       "<table border=\"1\" class=\"dataframe\">\n",
       "  <thead>\n",
       "    <tr style=\"text-align: right;\">\n",
       "      <th></th>\n",
       "      <th>lsoa_code</th>\n",
       "      <th>borough</th>\n",
       "      <th>major_category</th>\n",
       "      <th>minor_category</th>\n",
       "      <th>value</th>\n",
       "      <th>year</th>\n",
       "      <th>month</th>\n",
       "    </tr>\n",
       "  </thead>\n",
       "  <tbody>\n",
       "    <tr>\n",
       "      <th>0</th>\n",
       "      <td>E01000002</td>\n",
       "      <td>City of London</td>\n",
       "      <td>Violence Against the Person</td>\n",
       "      <td>Harassment</td>\n",
       "      <td>0</td>\n",
       "      <td>2011</td>\n",
       "      <td>9</td>\n",
       "    </tr>\n",
       "    <tr>\n",
       "      <th>1</th>\n",
       "      <td>E01000005</td>\n",
       "      <td>City of London</td>\n",
       "      <td>Violence Against the Person</td>\n",
       "      <td>Harassment</td>\n",
       "      <td>0</td>\n",
       "      <td>2014</td>\n",
       "      <td>7</td>\n",
       "    </tr>\n",
       "    <tr>\n",
       "      <th>2</th>\n",
       "      <td>E01000001</td>\n",
       "      <td>City of London</td>\n",
       "      <td>Violence Against the Person</td>\n",
       "      <td>Harassment</td>\n",
       "      <td>0</td>\n",
       "      <td>2008</td>\n",
       "      <td>3</td>\n",
       "    </tr>\n",
       "    <tr>\n",
       "      <th>3</th>\n",
       "      <td>E01032739</td>\n",
       "      <td>City of London</td>\n",
       "      <td>Violence Against the Person</td>\n",
       "      <td>Harassment</td>\n",
       "      <td>0</td>\n",
       "      <td>2016</td>\n",
       "      <td>3</td>\n",
       "    </tr>\n",
       "    <tr>\n",
       "      <th>4</th>\n",
       "      <td>E01000001</td>\n",
       "      <td>City of London</td>\n",
       "      <td>Violence Against the Person</td>\n",
       "      <td>Harassment</td>\n",
       "      <td>0</td>\n",
       "      <td>2011</td>\n",
       "      <td>10</td>\n",
       "    </tr>\n",
       "  </tbody>\n",
       "</table>\n",
       "</div>"
      ],
      "text/plain": [
       "   lsoa_code         borough               major_category minor_category  \\\n",
       "0  E01000002  City of London  Violence Against the Person     Harassment   \n",
       "1  E01000005  City of London  Violence Against the Person     Harassment   \n",
       "2  E01000001  City of London  Violence Against the Person     Harassment   \n",
       "3  E01032739  City of London  Violence Against the Person     Harassment   \n",
       "4  E01000001  City of London  Violence Against the Person     Harassment   \n",
       "\n",
       "   value  year  month  \n",
       "0      0  2011      9  \n",
       "1      0  2014      7  \n",
       "2      0  2008      3  \n",
       "3      0  2016      3  \n",
       "4      0  2011     10  "
      ]
     },
     "execution_count": 12,
     "metadata": {},
     "output_type": "execute_result"
    }
   ],
   "source": [
    "crimes_1.head()"
   ]
  },
  {
   "cell_type": "code",
   "execution_count": 13,
   "metadata": {},
   "outputs": [
    {
     "data": {
      "text/html": [
       "<div>\n",
       "<style scoped>\n",
       "    .dataframe tbody tr th:only-of-type {\n",
       "        vertical-align: middle;\n",
       "    }\n",
       "\n",
       "    .dataframe tbody tr th {\n",
       "        vertical-align: top;\n",
       "    }\n",
       "\n",
       "    .dataframe thead th {\n",
       "        text-align: right;\n",
       "    }\n",
       "</style>\n",
       "<table border=\"1\" class=\"dataframe\">\n",
       "  <thead>\n",
       "    <tr style=\"text-align: right;\">\n",
       "      <th></th>\n",
       "      <th>Borough</th>\n",
       "      <th>Major Category</th>\n",
       "      <th>Minor Category</th>\n",
       "      <th>201609</th>\n",
       "      <th>201610</th>\n",
       "      <th>201611</th>\n",
       "      <th>201612</th>\n",
       "      <th>201701</th>\n",
       "      <th>201702</th>\n",
       "      <th>201703</th>\n",
       "      <th>...</th>\n",
       "      <th>201711</th>\n",
       "      <th>201712</th>\n",
       "      <th>201801</th>\n",
       "      <th>201802</th>\n",
       "      <th>201803</th>\n",
       "      <th>201804</th>\n",
       "      <th>201805</th>\n",
       "      <th>201806</th>\n",
       "      <th>201807</th>\n",
       "      <th>201808</th>\n",
       "    </tr>\n",
       "  </thead>\n",
       "  <tbody>\n",
       "    <tr>\n",
       "      <th>0</th>\n",
       "      <td>Barking and Dagenham</td>\n",
       "      <td>Burglary</td>\n",
       "      <td>Burglary - Business and Community</td>\n",
       "      <td>45</td>\n",
       "      <td>41</td>\n",
       "      <td>24</td>\n",
       "      <td>19</td>\n",
       "      <td>25</td>\n",
       "      <td>47</td>\n",
       "      <td>44</td>\n",
       "      <td>...</td>\n",
       "      <td>27</td>\n",
       "      <td>21</td>\n",
       "      <td>38</td>\n",
       "      <td>33</td>\n",
       "      <td>38</td>\n",
       "      <td>36</td>\n",
       "      <td>24</td>\n",
       "      <td>33</td>\n",
       "      <td>30</td>\n",
       "      <td>19</td>\n",
       "    </tr>\n",
       "    <tr>\n",
       "      <th>1</th>\n",
       "      <td>Barking and Dagenham</td>\n",
       "      <td>Burglary</td>\n",
       "      <td>Burglary - Residential</td>\n",
       "      <td>49</td>\n",
       "      <td>60</td>\n",
       "      <td>73</td>\n",
       "      <td>100</td>\n",
       "      <td>118</td>\n",
       "      <td>124</td>\n",
       "      <td>93</td>\n",
       "      <td>...</td>\n",
       "      <td>88</td>\n",
       "      <td>124</td>\n",
       "      <td>143</td>\n",
       "      <td>134</td>\n",
       "      <td>122</td>\n",
       "      <td>75</td>\n",
       "      <td>93</td>\n",
       "      <td>80</td>\n",
       "      <td>93</td>\n",
       "      <td>84</td>\n",
       "    </tr>\n",
       "    <tr>\n",
       "      <th>2</th>\n",
       "      <td>Barking and Dagenham</td>\n",
       "      <td>Criminal Damage</td>\n",
       "      <td>Arson</td>\n",
       "      <td>15</td>\n",
       "      <td>3</td>\n",
       "      <td>1</td>\n",
       "      <td>5</td>\n",
       "      <td>5</td>\n",
       "      <td>5</td>\n",
       "      <td>2</td>\n",
       "      <td>...</td>\n",
       "      <td>7</td>\n",
       "      <td>4</td>\n",
       "      <td>2</td>\n",
       "      <td>3</td>\n",
       "      <td>6</td>\n",
       "      <td>3</td>\n",
       "      <td>4</td>\n",
       "      <td>12</td>\n",
       "      <td>6</td>\n",
       "      <td>5</td>\n",
       "    </tr>\n",
       "    <tr>\n",
       "      <th>3</th>\n",
       "      <td>Barking and Dagenham</td>\n",
       "      <td>Criminal Damage</td>\n",
       "      <td>Criminal Damage To M/V</td>\n",
       "      <td>61</td>\n",
       "      <td>68</td>\n",
       "      <td>67</td>\n",
       "      <td>59</td>\n",
       "      <td>65</td>\n",
       "      <td>62</td>\n",
       "      <td>61</td>\n",
       "      <td>...</td>\n",
       "      <td>48</td>\n",
       "      <td>57</td>\n",
       "      <td>60</td>\n",
       "      <td>51</td>\n",
       "      <td>53</td>\n",
       "      <td>64</td>\n",
       "      <td>64</td>\n",
       "      <td>66</td>\n",
       "      <td>69</td>\n",
       "      <td>43</td>\n",
       "    </tr>\n",
       "    <tr>\n",
       "      <th>4</th>\n",
       "      <td>Barking and Dagenham</td>\n",
       "      <td>Criminal Damage</td>\n",
       "      <td>Criminal Damage To Other Bldg</td>\n",
       "      <td>11</td>\n",
       "      <td>12</td>\n",
       "      <td>16</td>\n",
       "      <td>8</td>\n",
       "      <td>10</td>\n",
       "      <td>6</td>\n",
       "      <td>13</td>\n",
       "      <td>...</td>\n",
       "      <td>11</td>\n",
       "      <td>10</td>\n",
       "      <td>10</td>\n",
       "      <td>5</td>\n",
       "      <td>6</td>\n",
       "      <td>9</td>\n",
       "      <td>9</td>\n",
       "      <td>8</td>\n",
       "      <td>7</td>\n",
       "      <td>7</td>\n",
       "    </tr>\n",
       "  </tbody>\n",
       "</table>\n",
       "<p>5 rows × 27 columns</p>\n",
       "</div>"
      ],
      "text/plain": [
       "                Borough   Major Category                     Minor Category  \\\n",
       "0  Barking and Dagenham         Burglary  Burglary - Business and Community   \n",
       "1  Barking and Dagenham         Burglary             Burglary - Residential   \n",
       "2  Barking and Dagenham  Criminal Damage                              Arson   \n",
       "3  Barking and Dagenham  Criminal Damage             Criminal Damage To M/V   \n",
       "4  Barking and Dagenham  Criminal Damage      Criminal Damage To Other Bldg   \n",
       "\n",
       "   201609  201610  201611  201612  201701  201702  201703  ...  201711  \\\n",
       "0      45      41      24      19      25      47      44  ...      27   \n",
       "1      49      60      73     100     118     124      93  ...      88   \n",
       "2      15       3       1       5       5       5       2  ...       7   \n",
       "3      61      68      67      59      65      62      61  ...      48   \n",
       "4      11      12      16       8      10       6      13  ...      11   \n",
       "\n",
       "   201712  201801  201802  201803  201804  201805  201806  201807  201808  \n",
       "0      21      38      33      38      36      24      33      30      19  \n",
       "1     124     143     134     122      75      93      80      93      84  \n",
       "2       4       2       3       6       3       4      12       6       5  \n",
       "3      57      60      51      53      64      64      66      69      43  \n",
       "4      10      10       5       6       9       9       8       7       7  \n",
       "\n",
       "[5 rows x 27 columns]"
      ]
     },
     "execution_count": 13,
     "metadata": {},
     "output_type": "execute_result"
    }
   ],
   "source": [
    "crimes_2.head()"
   ]
  },
  {
   "cell_type": "code",
   "execution_count": 14,
   "metadata": {},
   "outputs": [],
   "source": [
    "# Arranjar colunas do dataframe 2\n",
    "crimes_2.columns.tolist()\n",
    "\n",
    "# Arranjar apenas as colunas dos anos\n",
    "years_months = crimes_2.columns.tolist()[3:]\n",
    "\n",
    "# Inicializar o array das linhas \n",
    "rows = []\n",
    "\n",
    "for i,r in crimes_2.iterrows(): \n",
    "    \n",
    "    # Template para cada linha do crimes_2\n",
    "    template = [r['Borough'], r['Major Category'], r['Minor Category']]\n",
    "    \n",
    "    # Arranjar value, year and month\n",
    "    for ym in years_months:\n",
    "        row = template.copy()\n",
    "        row.extend((r[ym],ym[:4],ym[4:]))\n",
    "        rows.append(row)"
   ]
  },
  {
   "cell_type": "code",
   "execution_count": 15,
   "metadata": {},
   "outputs": [
    {
     "name": "stdout",
     "output_type": "stream",
     "text": [
      "(25248, 6)\n"
     ]
    },
    {
     "data": {
      "text/html": [
       "<div>\n",
       "<style scoped>\n",
       "    .dataframe tbody tr th:only-of-type {\n",
       "        vertical-align: middle;\n",
       "    }\n",
       "\n",
       "    .dataframe tbody tr th {\n",
       "        vertical-align: top;\n",
       "    }\n",
       "\n",
       "    .dataframe thead th {\n",
       "        text-align: right;\n",
       "    }\n",
       "</style>\n",
       "<table border=\"1\" class=\"dataframe\">\n",
       "  <thead>\n",
       "    <tr style=\"text-align: right;\">\n",
       "      <th></th>\n",
       "      <th>borough</th>\n",
       "      <th>major_category</th>\n",
       "      <th>minor_category</th>\n",
       "      <th>value</th>\n",
       "      <th>year</th>\n",
       "      <th>month</th>\n",
       "    </tr>\n",
       "  </thead>\n",
       "  <tbody>\n",
       "    <tr>\n",
       "      <th>0</th>\n",
       "      <td>Barking and Dagenham</td>\n",
       "      <td>Burglary</td>\n",
       "      <td>Burglary - Business and Community</td>\n",
       "      <td>45</td>\n",
       "      <td>2016</td>\n",
       "      <td>09</td>\n",
       "    </tr>\n",
       "    <tr>\n",
       "      <th>1</th>\n",
       "      <td>Barking and Dagenham</td>\n",
       "      <td>Burglary</td>\n",
       "      <td>Burglary - Business and Community</td>\n",
       "      <td>41</td>\n",
       "      <td>2016</td>\n",
       "      <td>10</td>\n",
       "    </tr>\n",
       "    <tr>\n",
       "      <th>2</th>\n",
       "      <td>Barking and Dagenham</td>\n",
       "      <td>Burglary</td>\n",
       "      <td>Burglary - Business and Community</td>\n",
       "      <td>24</td>\n",
       "      <td>2016</td>\n",
       "      <td>11</td>\n",
       "    </tr>\n",
       "    <tr>\n",
       "      <th>3</th>\n",
       "      <td>Barking and Dagenham</td>\n",
       "      <td>Burglary</td>\n",
       "      <td>Burglary - Business and Community</td>\n",
       "      <td>19</td>\n",
       "      <td>2016</td>\n",
       "      <td>12</td>\n",
       "    </tr>\n",
       "    <tr>\n",
       "      <th>4</th>\n",
       "      <td>Barking and Dagenham</td>\n",
       "      <td>Burglary</td>\n",
       "      <td>Burglary - Business and Community</td>\n",
       "      <td>25</td>\n",
       "      <td>2017</td>\n",
       "      <td>01</td>\n",
       "    </tr>\n",
       "  </tbody>\n",
       "</table>\n",
       "</div>"
      ],
      "text/plain": [
       "                borough major_category                     minor_category  \\\n",
       "0  Barking and Dagenham       Burglary  Burglary - Business and Community   \n",
       "1  Barking and Dagenham       Burglary  Burglary - Business and Community   \n",
       "2  Barking and Dagenham       Burglary  Burglary - Business and Community   \n",
       "3  Barking and Dagenham       Burglary  Burglary - Business and Community   \n",
       "4  Barking and Dagenham       Burglary  Burglary - Business and Community   \n",
       "\n",
       "   value  year month  \n",
       "0     45  2016    09  \n",
       "1     41  2016    10  \n",
       "2     24  2016    11  \n",
       "3     19  2016    12  \n",
       "4     25  2017    01  "
      ]
     },
     "execution_count": 15,
     "metadata": {},
     "output_type": "execute_result"
    }
   ],
   "source": [
    "# Arranjar colunas para o dataframe (não sei pq mas nao tava a conseguir fazer isso tudo numa linha)\n",
    "cols = crimes_1.columns.tolist()\n",
    "cols.remove('lsoa_code')\n",
    "\n",
    "crimes_3 = pd.DataFrame(data=rows, columns = cols)\n",
    "print(crimes_3.shape)\n",
    "crimes_3.head()"
   ]
  },
  {
   "cell_type": "markdown",
   "metadata": {},
   "source": [
    "#### Check for comon years"
   ]
  },
  {
   "cell_type": "code",
   "execution_count": 16,
   "metadata": {},
   "outputs": [
    {
     "name": "stdout",
     "output_type": "stream",
     "text": [
      "Crimes 1:  [2008 2009 2010 2011 2012 2013 2014 2015 2016]\n",
      "Crimes 2:  ['2016' '2017' '2018']\n"
     ]
    }
   ],
   "source": [
    "print('Crimes 1: ', np.sort(crimes_1['year'].unique()))\n",
    "print('Crimes 2: ', np.sort(crimes_3['year'].unique()))"
   ]
  },
  {
   "cell_type": "markdown",
   "metadata": {},
   "source": [
    "Vimos que 2016 está em ambos os datasets. É preciso então ter em conta o este ano como potencial zona de criação de duplicados."
   ]
  },
  {
   "cell_type": "markdown",
   "metadata": {},
   "source": [
    "#### Merge both datasets"
   ]
  },
  {
   "cell_type": "code",
   "execution_count": 17,
   "metadata": {},
   "outputs": [
    {
     "name": "stdout",
     "output_type": "stream",
     "text": [
      "(3886248, 7)\n"
     ]
    },
    {
     "data": {
      "text/html": [
       "<div>\n",
       "<style scoped>\n",
       "    .dataframe tbody tr th:only-of-type {\n",
       "        vertical-align: middle;\n",
       "    }\n",
       "\n",
       "    .dataframe tbody tr th {\n",
       "        vertical-align: top;\n",
       "    }\n",
       "\n",
       "    .dataframe thead th {\n",
       "        text-align: right;\n",
       "    }\n",
       "</style>\n",
       "<table border=\"1\" class=\"dataframe\">\n",
       "  <thead>\n",
       "    <tr style=\"text-align: right;\">\n",
       "      <th></th>\n",
       "      <th>lsoa_code</th>\n",
       "      <th>borough</th>\n",
       "      <th>major_category</th>\n",
       "      <th>minor_category</th>\n",
       "      <th>value</th>\n",
       "      <th>year</th>\n",
       "      <th>month</th>\n",
       "    </tr>\n",
       "  </thead>\n",
       "  <tbody>\n",
       "    <tr>\n",
       "      <th>0</th>\n",
       "      <td>E01000002</td>\n",
       "      <td>City of London</td>\n",
       "      <td>Violence Against the Person</td>\n",
       "      <td>Harassment</td>\n",
       "      <td>0</td>\n",
       "      <td>2011</td>\n",
       "      <td>9</td>\n",
       "    </tr>\n",
       "    <tr>\n",
       "      <th>1</th>\n",
       "      <td>E01000005</td>\n",
       "      <td>City of London</td>\n",
       "      <td>Violence Against the Person</td>\n",
       "      <td>Harassment</td>\n",
       "      <td>0</td>\n",
       "      <td>2014</td>\n",
       "      <td>7</td>\n",
       "    </tr>\n",
       "    <tr>\n",
       "      <th>2</th>\n",
       "      <td>E01000001</td>\n",
       "      <td>City of London</td>\n",
       "      <td>Violence Against the Person</td>\n",
       "      <td>Harassment</td>\n",
       "      <td>0</td>\n",
       "      <td>2008</td>\n",
       "      <td>3</td>\n",
       "    </tr>\n",
       "    <tr>\n",
       "      <th>3</th>\n",
       "      <td>E01032739</td>\n",
       "      <td>City of London</td>\n",
       "      <td>Violence Against the Person</td>\n",
       "      <td>Harassment</td>\n",
       "      <td>0</td>\n",
       "      <td>2016</td>\n",
       "      <td>3</td>\n",
       "    </tr>\n",
       "    <tr>\n",
       "      <th>4</th>\n",
       "      <td>E01000001</td>\n",
       "      <td>City of London</td>\n",
       "      <td>Violence Against the Person</td>\n",
       "      <td>Harassment</td>\n",
       "      <td>0</td>\n",
       "      <td>2011</td>\n",
       "      <td>10</td>\n",
       "    </tr>\n",
       "  </tbody>\n",
       "</table>\n",
       "</div>"
      ],
      "text/plain": [
       "   lsoa_code         borough               major_category minor_category  \\\n",
       "0  E01000002  City of London  Violence Against the Person     Harassment   \n",
       "1  E01000005  City of London  Violence Against the Person     Harassment   \n",
       "2  E01000001  City of London  Violence Against the Person     Harassment   \n",
       "3  E01032739  City of London  Violence Against the Person     Harassment   \n",
       "4  E01000001  City of London  Violence Against the Person     Harassment   \n",
       "\n",
       "   value  year month  \n",
       "0      0  2011     9  \n",
       "1      0  2014     7  \n",
       "2      0  2008     3  \n",
       "3      0  2016     3  \n",
       "4      0  2011    10  "
      ]
     },
     "execution_count": 17,
     "metadata": {},
     "output_type": "execute_result"
    }
   ],
   "source": [
    "crimes_merged = pd.concat([crimes_1,crimes_3])\n",
    "print(crimes_merged.shape)\n",
    "crimes_merged.head()"
   ]
  },
  {
   "cell_type": "code",
   "execution_count": 18,
   "metadata": {},
   "outputs": [
    {
     "name": "stdout",
     "output_type": "stream",
     "text": [
      "(3886248, 6)\n"
     ]
    }
   ],
   "source": [
    "# Drop duplicates\n",
    "crimes_merged = crimes_merged.drop_duplicates()\n",
    "\n",
    "# Drop lsoa_code\n",
    "crimes_merged = crimes_merged.drop(['lsoa_code'],axis=1)\n",
    "print(crimes_merged.shape)"
   ]
  },
  {
   "cell_type": "markdown",
   "metadata": {},
   "source": [
    "Verificamos os duplicados antes de remover o lsoa_code, para não estarmos a identificar linhas como falsos duplicados, depois de de remover esta coluna."
   ]
  },
  {
   "cell_type": "markdown",
   "metadata": {},
   "source": [
    "No duplicates where found"
   ]
  },
  {
   "cell_type": "markdown",
   "metadata": {},
   "source": [
    "#### Export crimes_merged to csv"
   ]
  },
  {
   "cell_type": "code",
   "execution_count": 19,
   "metadata": {},
   "outputs": [],
   "source": [
    "# compression_opts = dict(method='zip',\n",
    "#                         archive_name='crimes_merged.csv') \n",
    "\n",
    "# crimes_merged.to_csv('out.zip', \n",
    "#                     compression=compression_opts,\n",
    "#                     index=False)"
   ]
  }
 ],
 "metadata": {
  "kernelspec": {
   "display_name": "Python 3",
   "language": "python",
   "name": "python3"
  },
  "language_info": {
   "codemirror_mode": {
    "name": "ipython",
    "version": 3
   },
   "file_extension": ".py",
   "mimetype": "text/x-python",
   "name": "python",
   "nbconvert_exporter": "python",
   "pygments_lexer": "ipython3",
   "version": "3.8.5"
  }
 },
 "nbformat": 4,
 "nbformat_minor": 4
}
